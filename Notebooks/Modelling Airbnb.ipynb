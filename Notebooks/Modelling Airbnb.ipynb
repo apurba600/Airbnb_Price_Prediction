{
 "cells": [
  {
   "cell_type": "markdown",
   "id": "b4edb897",
   "metadata": {},
   "source": [
    "## Airbnb Price Prediction And Optimization"
   ]
  },
  {
   "cell_type": "markdown",
   "id": "40054aa4",
   "metadata": {},
   "source": [
    "### Author: Apurba Pandey\n",
    "### Date: 22 November 2023"
   ]
  },
  {
   "cell_type": "markdown",
   "id": "ffe9aec1",
   "metadata": {},
   "source": [
    "# Introduction\n",
    "\n",
    "The project's goal is to develop a machine-learning model that provides price prediction, relationship of reviews with profitability and data-driven insights to Airbnb hosts.\n",
    "\n",
    "This model would consider various factors such as location, property type, seasonal trends, and local demand to help hosts make informed decisions about their listings. By leveraging this model, hosts can improve their investment decisions, enhance the quality of their listings, and ultimately maximize their profitability. This project primarily benefits new and experienced Airbnb hosts who are seeking a data-driven approach to optimize their properties and increase their overall success in the Airbnb marketplace.\n",
    "\n",
    "Machine learning offers various solutions to the challenges. Through the analysis of extensive datasets, ML models allow hosts to make data-driven decisions by identifying key variables for optimization, including location, property type, pricing strategies, and amenities. Utilizing supervised techniques like linear regression, neural networks, and XGBoost, hosts can construct predictive models to forecast occupancy rates and rental income, facilitating proactive planning.\n",
    "\n",
    "By optimizing Airbnb listings through machine learning, it is anticipated to boost hosts profitability, potentially amounting to thousands of dollars in additional earnings. Hosts can also save dozens of hours each month, potentially adding up to thousands of hours in time saved collectively, which they can spend with friends and family.Additionally, the project's focus on improving the guest experience may lead to higher guest satisfaction and more positive reviews, further benefiting hosts."
   ]
  },
  {
   "cell_type": "markdown",
   "id": "6ee6818e",
   "metadata": {},
   "source": [
    "# Table Of Content"
   ]
  },
  {
   "cell_type": "code",
   "execution_count": 43,
   "id": "c3ddf92e",
   "metadata": {},
   "outputs": [],
   "source": [
    "# Import libraries \n",
    "import pandas as pd\n",
    "import numpy as np\n",
    "import matplotlib.pyplot as plt\n",
    "import seaborn as sns\n",
    "import plotly.express as px\n",
    "%matplotlib inline\n",
    "import re\n",
    "\n",
    "from statsmodels.stats.outliers_influence import variance_inflation_factor\n",
    "import statsmodels.api as sm\n",
    "\n",
    "from sklearn.preprocessing import OneHotEncoder\n",
    "from sklearn.preprocessing import MultiLabelBinarizer\n",
    "from sklearn.impute import KNNImputer\n",
    "from sklearn.preprocessing import StandardScaler, MinMaxScaler, PowerTransformer\n",
    "from sklearn.linear_model import LinearRegression\n",
    "from sklearn.linear_model import Ridge, Lasso\n",
    "from sklearn.model_selection import cross_val_score\n",
    "from sklearn.ensemble import RandomForestRegressor\n",
    "from sklearn.decomposition import PCA\n",
    "from sklearn.metrics import RocCurveDisplay, mean_squared_error, mean_absolute_error, r2_score\n",
    "from sklearn.model_selection import train_test_split\n",
    "\n",
    "import tensorflow as tf\n",
    "from tensorflow.keras.models import Sequential\n",
    "from tensorflow.keras.layers import Dense, Dropout\n",
    "\n",
    "from sklearn.model_selection import GridSearchCV\n",
    "from sklearn.pipeline import Pipeline\n",
    "from xgboost import XGBRegressor\n",
    "from sklearn.metrics import mean_squared_error\n",
    "\n",
    "\n",
    "import warnings\n",
    "warnings.filterwarnings(\"ignore\")\n",
    "sns.set_style(\"whitegrid\")"
   ]
  },
  {
   "cell_type": "code",
   "execution_count": 22,
   "id": "1cc5f658",
   "metadata": {},
   "outputs": [],
   "source": [
    "# Read the Dataframe and assign it to final_df\n",
    "final_df = pd.read_csv(\"modelling_section.csv\")"
   ]
  },
  {
   "cell_type": "code",
   "execution_count": 23,
   "id": "8319590d",
   "metadata": {},
   "outputs": [
    {
     "data": {
      "text/html": [
       "<div>\n",
       "<style scoped>\n",
       "    .dataframe tbody tr th:only-of-type {\n",
       "        vertical-align: middle;\n",
       "    }\n",
       "\n",
       "    .dataframe tbody tr th {\n",
       "        vertical-align: top;\n",
       "    }\n",
       "\n",
       "    .dataframe thead th {\n",
       "        text-align: right;\n",
       "    }\n",
       "</style>\n",
       "<table border=\"1\" class=\"dataframe\">\n",
       "  <thead>\n",
       "    <tr style=\"text-align: right;\">\n",
       "      <th></th>\n",
       "      <th>Unnamed: 0</th>\n",
       "      <th>host_response_time</th>\n",
       "      <th>host_response_rate</th>\n",
       "      <th>host_acceptance_rate</th>\n",
       "      <th>host_is_superhost</th>\n",
       "      <th>host_total_listings_count</th>\n",
       "      <th>host_has_profile_pic</th>\n",
       "      <th>host_identity_verified</th>\n",
       "      <th>latitude</th>\n",
       "      <th>longitude</th>\n",
       "      <th>...</th>\n",
       "      <th>host_verification_work_email</th>\n",
       "      <th>neighbourhood_Kensington-Chinatown</th>\n",
       "      <th>neighbourhood_Le Plateau-Mont-Royal</th>\n",
       "      <th>neighbourhood_Other</th>\n",
       "      <th>neighbourhood_Trinity-Bellwoods</th>\n",
       "      <th>neighbourhood_Ville-Marie</th>\n",
       "      <th>neighbourhood_Waterfront Communities-The Island</th>\n",
       "      <th>room_type_Hotel room</th>\n",
       "      <th>room_type_Private room</th>\n",
       "      <th>room_type_Shared room</th>\n",
       "    </tr>\n",
       "  </thead>\n",
       "  <tbody>\n",
       "    <tr>\n",
       "      <th>0</th>\n",
       "      <td>0</td>\n",
       "      <td>1.0</td>\n",
       "      <td>0.000000</td>\n",
       "      <td>0.897648</td>\n",
       "      <td>0.0</td>\n",
       "      <td>3.0</td>\n",
       "      <td>1.0</td>\n",
       "      <td>0.0</td>\n",
       "      <td>43.64080</td>\n",
       "      <td>-79.37673</td>\n",
       "      <td>...</td>\n",
       "      <td>0</td>\n",
       "      <td>0.0</td>\n",
       "      <td>0.0</td>\n",
       "      <td>0.0</td>\n",
       "      <td>0.0</td>\n",
       "      <td>0.0</td>\n",
       "      <td>1.0</td>\n",
       "      <td>0.0</td>\n",
       "      <td>1.0</td>\n",
       "      <td>0.0</td>\n",
       "    </tr>\n",
       "    <tr>\n",
       "      <th>1</th>\n",
       "      <td>1</td>\n",
       "      <td>4.0</td>\n",
       "      <td>1.000000</td>\n",
       "      <td>0.930000</td>\n",
       "      <td>1.0</td>\n",
       "      <td>16.0</td>\n",
       "      <td>1.0</td>\n",
       "      <td>1.0</td>\n",
       "      <td>43.66143</td>\n",
       "      <td>-79.40883</td>\n",
       "      <td>...</td>\n",
       "      <td>0</td>\n",
       "      <td>0.0</td>\n",
       "      <td>0.0</td>\n",
       "      <td>1.0</td>\n",
       "      <td>0.0</td>\n",
       "      <td>0.0</td>\n",
       "      <td>0.0</td>\n",
       "      <td>0.0</td>\n",
       "      <td>1.0</td>\n",
       "      <td>0.0</td>\n",
       "    </tr>\n",
       "    <tr>\n",
       "      <th>2</th>\n",
       "      <td>2</td>\n",
       "      <td>4.0</td>\n",
       "      <td>0.948186</td>\n",
       "      <td>0.897648</td>\n",
       "      <td>0.0</td>\n",
       "      <td>1.0</td>\n",
       "      <td>1.0</td>\n",
       "      <td>1.0</td>\n",
       "      <td>43.78345</td>\n",
       "      <td>-79.44525</td>\n",
       "      <td>...</td>\n",
       "      <td>0</td>\n",
       "      <td>0.0</td>\n",
       "      <td>0.0</td>\n",
       "      <td>1.0</td>\n",
       "      <td>0.0</td>\n",
       "      <td>0.0</td>\n",
       "      <td>0.0</td>\n",
       "      <td>0.0</td>\n",
       "      <td>1.0</td>\n",
       "      <td>0.0</td>\n",
       "    </tr>\n",
       "    <tr>\n",
       "      <th>3</th>\n",
       "      <td>3</td>\n",
       "      <td>3.0</td>\n",
       "      <td>1.000000</td>\n",
       "      <td>0.220000</td>\n",
       "      <td>0.0</td>\n",
       "      <td>10.0</td>\n",
       "      <td>1.0</td>\n",
       "      <td>1.0</td>\n",
       "      <td>43.64608</td>\n",
       "      <td>-79.39032</td>\n",
       "      <td>...</td>\n",
       "      <td>1</td>\n",
       "      <td>0.0</td>\n",
       "      <td>0.0</td>\n",
       "      <td>0.0</td>\n",
       "      <td>0.0</td>\n",
       "      <td>0.0</td>\n",
       "      <td>1.0</td>\n",
       "      <td>0.0</td>\n",
       "      <td>0.0</td>\n",
       "      <td>0.0</td>\n",
       "    </tr>\n",
       "    <tr>\n",
       "      <th>4</th>\n",
       "      <td>4</td>\n",
       "      <td>4.0</td>\n",
       "      <td>1.000000</td>\n",
       "      <td>0.800000</td>\n",
       "      <td>0.0</td>\n",
       "      <td>1.0</td>\n",
       "      <td>1.0</td>\n",
       "      <td>1.0</td>\n",
       "      <td>43.68219</td>\n",
       "      <td>-79.35405</td>\n",
       "      <td>...</td>\n",
       "      <td>1</td>\n",
       "      <td>0.0</td>\n",
       "      <td>0.0</td>\n",
       "      <td>1.0</td>\n",
       "      <td>0.0</td>\n",
       "      <td>0.0</td>\n",
       "      <td>0.0</td>\n",
       "      <td>0.0</td>\n",
       "      <td>0.0</td>\n",
       "      <td>0.0</td>\n",
       "    </tr>\n",
       "  </tbody>\n",
       "</table>\n",
       "<p>5 rows × 70 columns</p>\n",
       "</div>"
      ],
      "text/plain": [
       "   Unnamed: 0  host_response_time  host_response_rate  host_acceptance_rate  \\\n",
       "0           0                 1.0            0.000000              0.897648   \n",
       "1           1                 4.0            1.000000              0.930000   \n",
       "2           2                 4.0            0.948186              0.897648   \n",
       "3           3                 3.0            1.000000              0.220000   \n",
       "4           4                 4.0            1.000000              0.800000   \n",
       "\n",
       "   host_is_superhost  host_total_listings_count  host_has_profile_pic  \\\n",
       "0                0.0                        3.0                   1.0   \n",
       "1                1.0                       16.0                   1.0   \n",
       "2                0.0                        1.0                   1.0   \n",
       "3                0.0                       10.0                   1.0   \n",
       "4                0.0                        1.0                   1.0   \n",
       "\n",
       "   host_identity_verified  latitude  longitude  ...  \\\n",
       "0                     0.0  43.64080  -79.37673  ...   \n",
       "1                     1.0  43.66143  -79.40883  ...   \n",
       "2                     1.0  43.78345  -79.44525  ...   \n",
       "3                     1.0  43.64608  -79.39032  ...   \n",
       "4                     1.0  43.68219  -79.35405  ...   \n",
       "\n",
       "   host_verification_work_email  neighbourhood_Kensington-Chinatown  \\\n",
       "0                             0                                 0.0   \n",
       "1                             0                                 0.0   \n",
       "2                             0                                 0.0   \n",
       "3                             1                                 0.0   \n",
       "4                             1                                 0.0   \n",
       "\n",
       "   neighbourhood_Le Plateau-Mont-Royal  neighbourhood_Other  \\\n",
       "0                                  0.0                  0.0   \n",
       "1                                  0.0                  1.0   \n",
       "2                                  0.0                  1.0   \n",
       "3                                  0.0                  0.0   \n",
       "4                                  0.0                  1.0   \n",
       "\n",
       "   neighbourhood_Trinity-Bellwoods  neighbourhood_Ville-Marie  \\\n",
       "0                              0.0                        0.0   \n",
       "1                              0.0                        0.0   \n",
       "2                              0.0                        0.0   \n",
       "3                              0.0                        0.0   \n",
       "4                              0.0                        0.0   \n",
       "\n",
       "   neighbourhood_Waterfront Communities-The Island  room_type_Hotel room  \\\n",
       "0                                              1.0                   0.0   \n",
       "1                                              0.0                   0.0   \n",
       "2                                              0.0                   0.0   \n",
       "3                                              1.0                   0.0   \n",
       "4                                              0.0                   0.0   \n",
       "\n",
       "   room_type_Private room  room_type_Shared room  \n",
       "0                     1.0                    0.0  \n",
       "1                     1.0                    0.0  \n",
       "2                     1.0                    0.0  \n",
       "3                     0.0                    0.0  \n",
       "4                     0.0                    0.0  \n",
       "\n",
       "[5 rows x 70 columns]"
      ]
     },
     "execution_count": 23,
     "metadata": {},
     "output_type": "execute_result"
    }
   ],
   "source": [
    "# Checkout the DataFrame\n",
    "final_df.head()"
   ]
  },
  {
   "cell_type": "code",
   "execution_count": 24,
   "id": "f8b09c88",
   "metadata": {},
   "outputs": [],
   "source": [
    "# Drop the unnamed column\n",
    "final_df.drop(\"Unnamed: 0\", axis = 1, inplace = True)"
   ]
  },
  {
   "cell_type": "code",
   "execution_count": 25,
   "id": "b0f464d1",
   "metadata": {},
   "outputs": [
    {
     "data": {
      "text/html": [
       "<div>\n",
       "<style scoped>\n",
       "    .dataframe tbody tr th:only-of-type {\n",
       "        vertical-align: middle;\n",
       "    }\n",
       "\n",
       "    .dataframe tbody tr th {\n",
       "        vertical-align: top;\n",
       "    }\n",
       "\n",
       "    .dataframe thead th {\n",
       "        text-align: right;\n",
       "    }\n",
       "</style>\n",
       "<table border=\"1\" class=\"dataframe\">\n",
       "  <thead>\n",
       "    <tr style=\"text-align: right;\">\n",
       "      <th></th>\n",
       "      <th>host_response_time</th>\n",
       "      <th>host_response_rate</th>\n",
       "      <th>host_acceptance_rate</th>\n",
       "      <th>host_is_superhost</th>\n",
       "      <th>host_total_listings_count</th>\n",
       "      <th>host_has_profile_pic</th>\n",
       "      <th>host_identity_verified</th>\n",
       "      <th>latitude</th>\n",
       "      <th>longitude</th>\n",
       "      <th>accommodates</th>\n",
       "      <th>...</th>\n",
       "      <th>host_verification_work_email</th>\n",
       "      <th>neighbourhood_Kensington-Chinatown</th>\n",
       "      <th>neighbourhood_Le Plateau-Mont-Royal</th>\n",
       "      <th>neighbourhood_Other</th>\n",
       "      <th>neighbourhood_Trinity-Bellwoods</th>\n",
       "      <th>neighbourhood_Ville-Marie</th>\n",
       "      <th>neighbourhood_Waterfront Communities-The Island</th>\n",
       "      <th>room_type_Hotel room</th>\n",
       "      <th>room_type_Private room</th>\n",
       "      <th>room_type_Shared room</th>\n",
       "    </tr>\n",
       "  </thead>\n",
       "  <tbody>\n",
       "    <tr>\n",
       "      <th>0</th>\n",
       "      <td>1.0</td>\n",
       "      <td>0.0</td>\n",
       "      <td>0.897648</td>\n",
       "      <td>0.0</td>\n",
       "      <td>3.0</td>\n",
       "      <td>1.0</td>\n",
       "      <td>0.0</td>\n",
       "      <td>43.64080</td>\n",
       "      <td>-79.37673</td>\n",
       "      <td>2</td>\n",
       "      <td>...</td>\n",
       "      <td>0</td>\n",
       "      <td>0.0</td>\n",
       "      <td>0.0</td>\n",
       "      <td>0.0</td>\n",
       "      <td>0.0</td>\n",
       "      <td>0.0</td>\n",
       "      <td>1.0</td>\n",
       "      <td>0.0</td>\n",
       "      <td>1.0</td>\n",
       "      <td>0.0</td>\n",
       "    </tr>\n",
       "    <tr>\n",
       "      <th>1</th>\n",
       "      <td>4.0</td>\n",
       "      <td>1.0</td>\n",
       "      <td>0.930000</td>\n",
       "      <td>1.0</td>\n",
       "      <td>16.0</td>\n",
       "      <td>1.0</td>\n",
       "      <td>1.0</td>\n",
       "      <td>43.66143</td>\n",
       "      <td>-79.40883</td>\n",
       "      <td>1</td>\n",
       "      <td>...</td>\n",
       "      <td>0</td>\n",
       "      <td>0.0</td>\n",
       "      <td>0.0</td>\n",
       "      <td>1.0</td>\n",
       "      <td>0.0</td>\n",
       "      <td>0.0</td>\n",
       "      <td>0.0</td>\n",
       "      <td>0.0</td>\n",
       "      <td>1.0</td>\n",
       "      <td>0.0</td>\n",
       "    </tr>\n",
       "  </tbody>\n",
       "</table>\n",
       "<p>2 rows × 69 columns</p>\n",
       "</div>"
      ],
      "text/plain": [
       "   host_response_time  host_response_rate  host_acceptance_rate  \\\n",
       "0                 1.0                 0.0              0.897648   \n",
       "1                 4.0                 1.0              0.930000   \n",
       "\n",
       "   host_is_superhost  host_total_listings_count  host_has_profile_pic  \\\n",
       "0                0.0                        3.0                   1.0   \n",
       "1                1.0                       16.0                   1.0   \n",
       "\n",
       "   host_identity_verified  latitude  longitude  accommodates  ...  \\\n",
       "0                     0.0  43.64080  -79.37673             2  ...   \n",
       "1                     1.0  43.66143  -79.40883             1  ...   \n",
       "\n",
       "   host_verification_work_email  neighbourhood_Kensington-Chinatown  \\\n",
       "0                             0                                 0.0   \n",
       "1                             0                                 0.0   \n",
       "\n",
       "   neighbourhood_Le Plateau-Mont-Royal  neighbourhood_Other  \\\n",
       "0                                  0.0                  0.0   \n",
       "1                                  0.0                  1.0   \n",
       "\n",
       "   neighbourhood_Trinity-Bellwoods  neighbourhood_Ville-Marie  \\\n",
       "0                              0.0                        0.0   \n",
       "1                              0.0                        0.0   \n",
       "\n",
       "   neighbourhood_Waterfront Communities-The Island  room_type_Hotel room  \\\n",
       "0                                              1.0                   0.0   \n",
       "1                                              0.0                   0.0   \n",
       "\n",
       "   room_type_Private room  room_type_Shared room  \n",
       "0                     1.0                    0.0  \n",
       "1                     1.0                    0.0  \n",
       "\n",
       "[2 rows x 69 columns]"
      ]
     },
     "execution_count": 25,
     "metadata": {},
     "output_type": "execute_result"
    }
   ],
   "source": [
    "# Checkout the DataFrame to see the column has been dropped\n",
    "final_df.head(2)"
   ]
  },
  {
   "cell_type": "markdown",
   "id": "c87e6d7e",
   "metadata": {},
   "source": [
    "# Modelling"
   ]
  },
  {
   "cell_type": "markdown",
   "id": "d0d85c41",
   "metadata": {},
   "source": [
    "### Base Modelling (Linear Regression)"
   ]
  },
  {
   "cell_type": "markdown",
   "id": "3c34d1bd",
   "metadata": {},
   "source": [
    "In the base modeling section of our analysis, we have opted to utilize Linear Regression as our primary predictive model.We chose Linear Regression for its simplicity and interpretability. It allows us to quantify the strength and type of relationship between each feature and the target variable, which is the price column for us."
   ]
  },
  {
   "cell_type": "markdown",
   "id": "6388733a",
   "metadata": {},
   "source": [
    "### First Iteration"
   ]
  },
  {
   "cell_type": "code",
   "execution_count": 26,
   "id": "984d5c6b",
   "metadata": {},
   "outputs": [
    {
     "name": "stdout",
     "output_type": "stream",
     "text": [
      "R^2 Score: 0.4951674442636602\n",
      "Mean Squared Error: 2789.877194218883\n"
     ]
    }
   ],
   "source": [
    "# Define X and y for modelling\n",
    "X = final_df.drop(\"price\",axis=1)\n",
    "y = final_df[\"price\"]\n",
    "\n",
    "#Split the dataset into train,test\n",
    "X_train, X_test, y_train, y_test = train_test_split(X, y, test_size=0.25, random_state=42)\n",
    "\n",
    "# Since its liearn regression and distance matters, we wil normalize the data\n",
    "Sc = StandardScaler()\n",
    "X_train_scaled = Sc.fit_transform(X_train) # fit X_train\n",
    "X_test_scaled = Sc.transform(X_test) # we only transform the X_test\n",
    "\n",
    "# Instantiate the linear regression model\n",
    "lr_model = LinearRegression()\n",
    "lr_model.fit(X_train_scaled,y_train)\n",
    "\n",
    "# Predict using .predict\n",
    "y_pred = lr_model.predict(X_test_scaled)\n",
    "\n",
    "# Evaluate the model using R^2 and MAE\n",
    "r2_score = lr_model.score(X_test_scaled, y_test)\n",
    "mse = mean_squared_error(y_test, y_pred)\n",
    "\n",
    "# Output the evaluation metrics\n",
    "print(f'R^2 Score: {r2_score}')\n",
    "print(f'Mean Squared Error: {mse}')"
   ]
  },
  {
   "cell_type": "markdown",
   "id": "21ac19e9",
   "metadata": {},
   "source": [
    "#### Interpretation\n",
    "\n",
    "- The R-squared score of 0.494 indicates that approximately 49.4% of the variation in the target variable (price) can be explained by the model's inputs. This suggests a moderate level of predictive accuracy.\n",
    "\n",
    "- The Mean Squared Error (MSE) of 2811 indicates that the model's predictions generally match the actual data, with an average squared difference of about 2811. A lower MSE indicates better model performance. This MSE of 2811 can be used as a benchmark for comparing model accuracy."
   ]
  },
  {
   "cell_type": "markdown",
   "id": "a45fd2c1",
   "metadata": {},
   "source": [
    "**Collinearity is when two or more variables in a dataset are highly correlated. This means that one variable can be linearly predicted from the others. In other words, if you know the value of one variable, you can use it to predict the value of another.**\n",
    "\n",
    "**Multicollinearity is a more serious issue. It's when two or more variables are highly correlated, so much so that one can be linearly predicted from the others. This can cause problems in our regression model.**\n",
    "\n",
    "**Now, let's build a new linear regression model. We'll look for variables that don't support the predictive power for price and drop them.**"
   ]
  },
  {
   "cell_type": "markdown",
   "id": "3071f4e0",
   "metadata": {},
   "source": [
    "### Collinearity"
   ]
  },
  {
   "cell_type": "code",
   "execution_count": 27,
   "id": "963b9d2e",
   "metadata": {},
   "outputs": [
    {
     "name": "stdout",
     "output_type": "stream",
     "text": [
      "Columns dropped due to collinearity: ['longitude', 'maximum_minimum_nights', 'maximum_maximum_nights', 'minimum_nights_avg_ntm', 'maximum_nights_avg_ntm', 'availability_60', 'availability_90', 'review_scores_value', 'calculated_host_listings_count', 'calculated_host_listings_count_entire_homes']\n",
      "\n",
      "\n",
      "Shape: (60291, 58)\n"
     ]
    }
   ],
   "source": [
    "# Calculate the correlation matrix\n",
    "corr_matrix = X.corr()\n",
    "\n",
    "# Select upper triangle of corr matrix\n",
    "upper_tri = corr_matrix.where(np.triu(np.ones(corr_matrix.shape), k=1).astype(bool))\n",
    "\n",
    "# Find index of feature columns with high correlation (greater than 0.8)\n",
    "collinear_columns = [column for column in upper_tri.columns if any(upper_tri[column] > 0.8)]\n",
    "\n",
    "# Drop features with high correlation\n",
    "X_collinear_reduced = X.drop(columns=collinear_columns)\n",
    "\n",
    "# Display the dropped columns and the remaining shape of the DataFrame\n",
    "print(\"Columns dropped due to collinearity:\", collinear_columns)\n",
    "print(\"\\n\")\n",
    "print(\"Shape:\", X_collinear_reduced.shape)\n"
   ]
  },
  {
   "cell_type": "markdown",
   "id": "b7fbe2f0",
   "metadata": {},
   "source": [
    "### MultiCollinearity"
   ]
  },
  {
   "cell_type": "markdown",
   "id": "16ccec20",
   "metadata": {},
   "source": [
    "VIF is used to find multicollineraity in the features. Usually VIF with 5 is considered high, However, in our case, we will drop the features with VIF more than 10"
   ]
  },
  {
   "cell_type": "code",
   "execution_count": 28,
   "id": "ebc9de9b",
   "metadata": {},
   "outputs": [],
   "source": [
    "# Function to calculate VIF for each feature\n",
    "def calculate_vif(df):\n",
    "    vif_data = pd.DataFrame()\n",
    "    vif_data['Feature'] = df.columns\n",
    "    vif_data['VIF'] = [variance_inflation_factor(df.values, i) for i in range(df.shape[1])]\n",
    "    return vif_data"
   ]
  },
  {
   "cell_type": "code",
   "execution_count": 29,
   "id": "9654e8b5",
   "metadata": {},
   "outputs": [
    {
     "data": {
      "text/html": [
       "<div>\n",
       "<style scoped>\n",
       "    .dataframe tbody tr th:only-of-type {\n",
       "        vertical-align: middle;\n",
       "    }\n",
       "\n",
       "    .dataframe tbody tr th {\n",
       "        vertical-align: top;\n",
       "    }\n",
       "\n",
       "    .dataframe thead th {\n",
       "        text-align: right;\n",
       "    }\n",
       "</style>\n",
       "<table border=\"1\" class=\"dataframe\">\n",
       "  <thead>\n",
       "    <tr style=\"text-align: right;\">\n",
       "      <th></th>\n",
       "      <th>Feature</th>\n",
       "      <th>VIF</th>\n",
       "    </tr>\n",
       "  </thead>\n",
       "  <tbody>\n",
       "    <tr>\n",
       "      <th>0</th>\n",
       "      <td>host_response_time</td>\n",
       "      <td>2.384553</td>\n",
       "    </tr>\n",
       "    <tr>\n",
       "      <th>1</th>\n",
       "      <td>host_response_rate</td>\n",
       "      <td>2.244840</td>\n",
       "    </tr>\n",
       "    <tr>\n",
       "      <th>2</th>\n",
       "      <td>host_acceptance_rate</td>\n",
       "      <td>1.379516</td>\n",
       "    </tr>\n",
       "    <tr>\n",
       "      <th>3</th>\n",
       "      <td>host_is_superhost</td>\n",
       "      <td>1.305179</td>\n",
       "    </tr>\n",
       "    <tr>\n",
       "      <th>4</th>\n",
       "      <td>host_total_listings_count</td>\n",
       "      <td>2.757615</td>\n",
       "    </tr>\n",
       "  </tbody>\n",
       "</table>\n",
       "</div>"
      ],
      "text/plain": [
       "                     Feature       VIF\n",
       "0         host_response_time  2.384553\n",
       "1         host_response_rate  2.244840\n",
       "2       host_acceptance_rate  1.379516\n",
       "3          host_is_superhost  1.305179\n",
       "4  host_total_listings_count  2.757615"
      ]
     },
     "execution_count": 29,
     "metadata": {},
     "output_type": "execute_result"
    }
   ],
   "source": [
    "# Calculate VIF for the current set of features\n",
    "vif_data = calculate_vif(X_collinear_reduced)\n",
    "vif_data.head()"
   ]
  },
  {
   "cell_type": "code",
   "execution_count": 30,
   "id": "5fcfc746",
   "metadata": {},
   "outputs": [
    {
     "name": "stdout",
     "output_type": "stream",
     "text": [
      "Features dropped due to high VIF: ['neighbourhood_Kensington-Chinatown', 'neighbourhood_Le Plateau-Mont-Royal', 'neighbourhood_Other', 'neighbourhood_Trinity-Bellwoods', 'neighbourhood_Ville-Marie', 'neighbourhood_Waterfront Communities-The Island']\n"
     ]
    }
   ],
   "source": [
    "# Give features that have a high VIF\n",
    "features_with_high_vif = vif_data[vif_data['VIF'] > 10]['Feature'].tolist() # threshold = 10\n",
    "\n",
    "# Drop the features with high VIF f\n",
    "X_multicollinear_reduced = X_collinear_reduced.drop(features_with_high_vif, axis=1)\n",
    "\n",
    "# dropped features\n",
    "print(\"Features dropped due to high VIF:\", features_with_high_vif)"
   ]
  },
  {
   "cell_type": "code",
   "execution_count": 31,
   "id": "a96db5c8",
   "metadata": {},
   "outputs": [
    {
     "data": {
      "text/plain": [
       "(60291, 52)"
      ]
     },
     "execution_count": 31,
     "metadata": {},
     "output_type": "execute_result"
    }
   ],
   "source": [
    "# Checkout the shape of the dataframe\n",
    "X_multicollinear_reduced.shape # the shape has reduced from 63 columns to 52 columns"
   ]
  },
  {
   "cell_type": "markdown",
   "id": "c18cf4ad",
   "metadata": {},
   "source": [
    "### Second Iteration"
   ]
  },
  {
   "cell_type": "code",
   "execution_count": 32,
   "id": "2a149c02",
   "metadata": {},
   "outputs": [
    {
     "name": "stdout",
     "output_type": "stream",
     "text": [
      "R^2 Score: 0.4473121012868341\n",
      "Mean Squared Error: 40.644076942587375\n"
     ]
    }
   ],
   "source": [
    "# Define X and y for modelling\n",
    "X = X_multicollinear_reduced\n",
    "y = final_df[\"price\"]\n",
    "\n",
    "# Split the scaled data into training and testing\n",
    "X_train, X_test, y_train, y_test = train_test_split(X, y, test_size=0.25, random_state=42)\n",
    "\n",
    "# standard scaling to the features\n",
    "scaler = StandardScaler()\n",
    "X_train_scaled = scaler.fit_transform(X_train)\n",
    "X_test_scaled = scaler.transform(X_test)\n",
    "\n",
    "\n",
    "# Instantiate the linear regression model\n",
    "lr_model2 = LinearRegression()\n",
    "\n",
    "# Fit the model \n",
    "lr_model2.fit(X_train_scaled, y_train)\n",
    "\n",
    "# Predict \n",
    "y_pred = lr_model2.predict(X_test_scaled)\n",
    "\n",
    "# Evaluate the model using R^2 and MSE\n",
    "r2_score = lr_model2.score(X_test_scaled, y_test)\n",
    "mse = mean_absolute_error(y_test, y_pred)\n",
    "\n",
    "# evaluation metrics\n",
    "print(f'R^2 Score: {r2_score}')\n",
    "print(f'Mean Squared Error: {mse}')\n"
   ]
  },
  {
   "cell_type": "markdown",
   "id": "a0734559",
   "metadata": {},
   "source": [
    "#### Interpretation\n",
    "\n",
    "After we refined our model by removing collinear and multicollinear features, we got a new R-squared score of approximately 0.446. This score means that our Linear Regression model can now explain around 44.6% of the variability in the price. It's less than before, but it's still a significant improvement. This could suggest a more robust model, as it reduces the potential for overfitting that might have occurred due to these features."
   ]
  },
  {
   "cell_type": "code",
   "execution_count": 33,
   "id": "70c64cf5",
   "metadata": {},
   "outputs": [
    {
     "data": {
      "text/html": [
       "<div>\n",
       "<style scoped>\n",
       "    .dataframe tbody tr th:only-of-type {\n",
       "        vertical-align: middle;\n",
       "    }\n",
       "\n",
       "    .dataframe tbody tr th {\n",
       "        vertical-align: top;\n",
       "    }\n",
       "\n",
       "    .dataframe thead th {\n",
       "        text-align: right;\n",
       "    }\n",
       "</style>\n",
       "<table border=\"1\" class=\"dataframe\">\n",
       "  <thead>\n",
       "    <tr style=\"text-align: right;\">\n",
       "      <th></th>\n",
       "      <th>Coeff</th>\n",
       "    </tr>\n",
       "  </thead>\n",
       "  <tbody>\n",
       "    <tr>\n",
       "      <th>accommodates</th>\n",
       "      <td>1.742739e+01</td>\n",
       "    </tr>\n",
       "    <tr>\n",
       "      <th>license</th>\n",
       "      <td>1.428042e+01</td>\n",
       "    </tr>\n",
       "    <tr>\n",
       "      <th>availability_30</th>\n",
       "      <td>1.082243e+01</td>\n",
       "    </tr>\n",
       "    <tr>\n",
       "      <th>amenities</th>\n",
       "      <td>8.731753e+00</td>\n",
       "    </tr>\n",
       "    <tr>\n",
       "      <th>bedrooms</th>\n",
       "      <td>7.292981e+00</td>\n",
       "    </tr>\n",
       "    <tr>\n",
       "      <th>review_scores_location</th>\n",
       "      <td>6.126153e+00</td>\n",
       "    </tr>\n",
       "    <tr>\n",
       "      <th>bathroom_num</th>\n",
       "      <td>5.575559e+00</td>\n",
       "    </tr>\n",
       "    <tr>\n",
       "      <th>review_scores_cleanliness</th>\n",
       "      <td>4.146852e+00</td>\n",
       "    </tr>\n",
       "    <tr>\n",
       "      <th>instant_bookable</th>\n",
       "      <td>3.722586e+00</td>\n",
       "    </tr>\n",
       "    <tr>\n",
       "      <th>reviews_per_month</th>\n",
       "      <td>3.542957e+00</td>\n",
       "    </tr>\n",
       "    <tr>\n",
       "      <th>Tenure</th>\n",
       "      <td>2.665268e+00</td>\n",
       "    </tr>\n",
       "    <tr>\n",
       "      <th>number_of_reviews_l30d</th>\n",
       "      <td>2.283033e+00</td>\n",
       "    </tr>\n",
       "    <tr>\n",
       "      <th>host_verification_work_email</th>\n",
       "      <td>2.094065e+00</td>\n",
       "    </tr>\n",
       "    <tr>\n",
       "      <th>minimum_maximum_nights</th>\n",
       "      <td>1.739844e+00</td>\n",
       "    </tr>\n",
       "    <tr>\n",
       "      <th>host_response_time</th>\n",
       "      <td>1.488788e+00</td>\n",
       "    </tr>\n",
       "    <tr>\n",
       "      <th>room_type_Hotel room</th>\n",
       "      <td>1.477872e+00</td>\n",
       "    </tr>\n",
       "    <tr>\n",
       "      <th>review_scores_rating</th>\n",
       "      <td>1.204973e+00</td>\n",
       "    </tr>\n",
       "    <tr>\n",
       "      <th>host_is_superhost</th>\n",
       "      <td>1.198119e+00</td>\n",
       "    </tr>\n",
       "    <tr>\n",
       "      <th>number_of_reviews_ltm</th>\n",
       "      <td>1.065982e+00</td>\n",
       "    </tr>\n",
       "    <tr>\n",
       "      <th>maximum_nights</th>\n",
       "      <td>8.672217e-01</td>\n",
       "    </tr>\n",
       "    <tr>\n",
       "      <th>host_total_listings_count</th>\n",
       "      <td>8.205498e-01</td>\n",
       "    </tr>\n",
       "    <tr>\n",
       "      <th>calculated_host_listings_count_private_rooms</th>\n",
       "      <td>3.562606e-01</td>\n",
       "    </tr>\n",
       "    <tr>\n",
       "      <th>minimum_nights</th>\n",
       "      <td>1.151703e-01</td>\n",
       "    </tr>\n",
       "    <tr>\n",
       "      <th>amenity_kitchen</th>\n",
       "      <td>8.881784e-16</td>\n",
       "    </tr>\n",
       "    <tr>\n",
       "      <th>amenity_free_parking_on_premises</th>\n",
       "      <td>8.881784e-16</td>\n",
       "    </tr>\n",
       "    <tr>\n",
       "      <th>amenity_pool</th>\n",
       "      <td>8.881784e-16</td>\n",
       "    </tr>\n",
       "    <tr>\n",
       "      <th>amenity_hot_tub</th>\n",
       "      <td>4.440892e-16</td>\n",
       "    </tr>\n",
       "    <tr>\n",
       "      <th>amenity_private_entrance</th>\n",
       "      <td>2.220446e-16</td>\n",
       "    </tr>\n",
       "    <tr>\n",
       "      <th>amenity_heating</th>\n",
       "      <td>0.000000e+00</td>\n",
       "    </tr>\n",
       "    <tr>\n",
       "      <th>amenity_washer</th>\n",
       "      <td>0.000000e+00</td>\n",
       "    </tr>\n",
       "    <tr>\n",
       "      <th>amenity_dryer</th>\n",
       "      <td>0.000000e+00</td>\n",
       "    </tr>\n",
       "    <tr>\n",
       "      <th>amenity_air_conditioning</th>\n",
       "      <td>-4.440892e-16</td>\n",
       "    </tr>\n",
       "    <tr>\n",
       "      <th>amenity_wifi</th>\n",
       "      <td>-4.440892e-16</td>\n",
       "    </tr>\n",
       "    <tr>\n",
       "      <th>host_verification_photographer</th>\n",
       "      <td>-1.638883e-01</td>\n",
       "    </tr>\n",
       "    <tr>\n",
       "      <th>host_acceptance_rate</th>\n",
       "      <td>-2.629151e-01</td>\n",
       "    </tr>\n",
       "    <tr>\n",
       "      <th>review_scores_communication</th>\n",
       "      <td>-2.731233e-01</td>\n",
       "    </tr>\n",
       "    <tr>\n",
       "      <th>host_verification_phone</th>\n",
       "      <td>-3.317354e-01</td>\n",
       "    </tr>\n",
       "    <tr>\n",
       "      <th>availability_365</th>\n",
       "      <td>-4.978155e-01</td>\n",
       "    </tr>\n",
       "    <tr>\n",
       "      <th>host_identity_verified</th>\n",
       "      <td>-5.750068e-01</td>\n",
       "    </tr>\n",
       "    <tr>\n",
       "      <th>host_has_profile_pic</th>\n",
       "      <td>-5.793766e-01</td>\n",
       "    </tr>\n",
       "    <tr>\n",
       "      <th>beds</th>\n",
       "      <td>-8.150914e-01</td>\n",
       "    </tr>\n",
       "    <tr>\n",
       "      <th>review_scores_accuracy</th>\n",
       "      <td>-1.505239e+00</td>\n",
       "    </tr>\n",
       "    <tr>\n",
       "      <th>host_response_rate</th>\n",
       "      <td>-1.518906e+00</td>\n",
       "    </tr>\n",
       "    <tr>\n",
       "      <th>calculated_host_listings_count_shared_rooms</th>\n",
       "      <td>-1.729329e+00</td>\n",
       "    </tr>\n",
       "    <tr>\n",
       "      <th>host_verification_email</th>\n",
       "      <td>-1.862929e+00</td>\n",
       "    </tr>\n",
       "    <tr>\n",
       "      <th>has_availability</th>\n",
       "      <td>-2.603416e+00</td>\n",
       "    </tr>\n",
       "    <tr>\n",
       "      <th>number_of_reviews</th>\n",
       "      <td>-3.102281e+00</td>\n",
       "    </tr>\n",
       "    <tr>\n",
       "      <th>minimum_minimum_nights</th>\n",
       "      <td>-3.757905e+00</td>\n",
       "    </tr>\n",
       "    <tr>\n",
       "      <th>room_type_Shared room</th>\n",
       "      <td>-4.716236e+00</td>\n",
       "    </tr>\n",
       "    <tr>\n",
       "      <th>review_scores_checkin</th>\n",
       "      <td>-5.485515e+00</td>\n",
       "    </tr>\n",
       "    <tr>\n",
       "      <th>latitude</th>\n",
       "      <td>-9.475111e+00</td>\n",
       "    </tr>\n",
       "    <tr>\n",
       "      <th>room_type_Private room</th>\n",
       "      <td>-2.295572e+01</td>\n",
       "    </tr>\n",
       "  </tbody>\n",
       "</table>\n",
       "</div>"
      ],
      "text/plain": [
       "                                                     Coeff\n",
       "accommodates                                  1.742739e+01\n",
       "license                                       1.428042e+01\n",
       "availability_30                               1.082243e+01\n",
       "amenities                                     8.731753e+00\n",
       "bedrooms                                      7.292981e+00\n",
       "review_scores_location                        6.126153e+00\n",
       "bathroom_num                                  5.575559e+00\n",
       "review_scores_cleanliness                     4.146852e+00\n",
       "instant_bookable                              3.722586e+00\n",
       "reviews_per_month                             3.542957e+00\n",
       "Tenure                                        2.665268e+00\n",
       "number_of_reviews_l30d                        2.283033e+00\n",
       "host_verification_work_email                  2.094065e+00\n",
       "minimum_maximum_nights                        1.739844e+00\n",
       "host_response_time                            1.488788e+00\n",
       "room_type_Hotel room                          1.477872e+00\n",
       "review_scores_rating                          1.204973e+00\n",
       "host_is_superhost                             1.198119e+00\n",
       "number_of_reviews_ltm                         1.065982e+00\n",
       "maximum_nights                                8.672217e-01\n",
       "host_total_listings_count                     8.205498e-01\n",
       "calculated_host_listings_count_private_rooms  3.562606e-01\n",
       "minimum_nights                                1.151703e-01\n",
       "amenity_kitchen                               8.881784e-16\n",
       "amenity_free_parking_on_premises              8.881784e-16\n",
       "amenity_pool                                  8.881784e-16\n",
       "amenity_hot_tub                               4.440892e-16\n",
       "amenity_private_entrance                      2.220446e-16\n",
       "amenity_heating                               0.000000e+00\n",
       "amenity_washer                                0.000000e+00\n",
       "amenity_dryer                                 0.000000e+00\n",
       "amenity_air_conditioning                     -4.440892e-16\n",
       "amenity_wifi                                 -4.440892e-16\n",
       "host_verification_photographer               -1.638883e-01\n",
       "host_acceptance_rate                         -2.629151e-01\n",
       "review_scores_communication                  -2.731233e-01\n",
       "host_verification_phone                      -3.317354e-01\n",
       "availability_365                             -4.978155e-01\n",
       "host_identity_verified                       -5.750068e-01\n",
       "host_has_profile_pic                         -5.793766e-01\n",
       "beds                                         -8.150914e-01\n",
       "review_scores_accuracy                       -1.505239e+00\n",
       "host_response_rate                           -1.518906e+00\n",
       "calculated_host_listings_count_shared_rooms  -1.729329e+00\n",
       "host_verification_email                      -1.862929e+00\n",
       "has_availability                             -2.603416e+00\n",
       "number_of_reviews                            -3.102281e+00\n",
       "minimum_minimum_nights                       -3.757905e+00\n",
       "room_type_Shared room                        -4.716236e+00\n",
       "review_scores_checkin                        -5.485515e+00\n",
       "latitude                                     -9.475111e+00\n",
       "room_type_Private room                       -2.295572e+01"
      ]
     },
     "execution_count": 33,
     "metadata": {},
     "output_type": "execute_result"
    }
   ],
   "source": [
    "# Creating a dataframe to see the coefficients with the features\n",
    "pd.DataFrame(lr_model2.coef_, \n",
    "             index=X_multicollinear_reduced.columns, columns=['Coeff']).sort_values(by ='Coeff', ascending = False)"
   ]
  },
  {
   "cell_type": "markdown",
   "id": "2236c6b4",
   "metadata": {},
   "source": [
    "#### Interpretation of the Coefficients:\n",
    "\n",
    "- The coefficients we got from our Linear Regression model tell us how different things affect the price. If a place can fit more people, the price goes up by about 17.57 dollars per person. If a place has a license, the price goes up by 14.15 dollars. Being available for 30 more days increases the price by 10.83 dollars.\n",
    "\n",
    "- But some things make the price go down. If a place is further north, the price drops by $9.51. And if you're renting a private room instead of a whole place, the price is about 22.87 dollars less. These numbers help us understand what makes the price change."
   ]
  },
  {
   "cell_type": "markdown",
   "id": "a877090d",
   "metadata": {},
   "source": [
    "### Linear Regression Assumptions:\n",
    "\n",
    "- Linearity: The relationship between the independent and dependent variables is linear.\n",
    "- Independence: The residuals (errors) are independent.\n",
    "- Homoscedasticity: The residuals have constant variance.\n",
    "- Normality: The residuals are normally distributed."
   ]
  },
  {
   "cell_type": "code",
   "execution_count": 34,
   "id": "e6f5bdf8",
   "metadata": {},
   "outputs": [
    {
     "data": {
      "text/plain": [
       "<Figure size 1000x600 with 0 Axes>"
      ]
     },
     "metadata": {},
     "output_type": "display_data"
    },
    {
     "data": {
      "image/png": "[encoded data removed]",
      "text/plain": [
       "<Figure size 640x480 with 1 Axes>"
      ]
     },
     "metadata": {},
     "output_type": "display_data"
    },
    {
     "data": {
      "image/png": "[encoded data removed]",
      "text/plain": [
       "<Figure size 1000x600 with 1 Axes>"
      ]
     },
     "metadata": {},
     "output_type": "display_data"
    }
   ],
   "source": [
    "# Get the residuals by subtracting y_test with y_predict\n",
    "residuals = y_test - y_pred\n",
    "\n",
    "# Q-Q plot for normality of residuals\n",
    "plt.figure(figsize=(10,6))\n",
    "qq_plot = sm.qqplot(residuals, fit=True, line = \"45\")\n",
    "plt.title('Q-Q Plot for Normality of Residuals')\n",
    "plt.show()\n",
    "\n",
    "# Scatter plot for homoscedasticity \n",
    "plt.figure(figsize=(10,6))\n",
    "plt.scatter(y_pred, residuals)\n",
    "plt.axhline(y=0, color='red')\n",
    "plt.title('Residuals vs Fitted Values')\n",
    "plt.xlabel('Fitted Values')\n",
    "plt.ylabel('Residuals')\n",
    "plt.show()"
   ]
  },
  {
   "cell_type": "markdown",
   "id": "d24d521e",
   "metadata": {},
   "source": [
    "#### Interpretation\n",
    "\n",
    "**Q-Q Plot**\n",
    "- The Q-Q plot is a tool to help us check if the prices predicted by our model follow a bell-shaped curve, which is what we expect in a good model. The points on the plot mostly follow the straight line, which means our model's predictions are fairly normal, but there are a few points at the ends that deviates from the line, indicating some small deviations from the ideal normal distribution.\n",
    "\n",
    "**Residuals vs Fitted Values Plot**\n",
    "- . We want the scatter to be randomly scattered and not forming any clear patterns. Our plot shows a bit of a pattern, with the dots fanning out as we move to the right, suggesting that our model is less consistent at predicting higher prices. This is something we might want to improve."
   ]
  },
  {
   "cell_type": "markdown",
   "id": "2b7ba8e2",
   "metadata": {},
   "source": [
    "# Advanced Modelling "
   ]
  },
  {
   "cell_type": "markdown",
   "id": "1f3f81f3",
   "metadata": {},
   "source": [
    "We will use the dataframe with the dropped columns(collinear and multicollinear columns) for advanced modelling."
   ]
  },
  {
   "cell_type": "code",
   "execution_count": 35,
   "id": "980a0925",
   "metadata": {},
   "outputs": [
    {
     "data": {
      "text/html": [
       "<div>\n",
       "<style scoped>\n",
       "    .dataframe tbody tr th:only-of-type {\n",
       "        vertical-align: middle;\n",
       "    }\n",
       "\n",
       "    .dataframe tbody tr th {\n",
       "        vertical-align: top;\n",
       "    }\n",
       "\n",
       "    .dataframe thead th {\n",
       "        text-align: right;\n",
       "    }\n",
       "</style>\n",
       "<table border=\"1\" class=\"dataframe\">\n",
       "  <thead>\n",
       "    <tr style=\"text-align: right;\">\n",
       "      <th></th>\n",
       "      <th>host_response_time</th>\n",
       "      <th>host_response_rate</th>\n",
       "      <th>host_acceptance_rate</th>\n",
       "      <th>host_is_superhost</th>\n",
       "      <th>host_total_listings_count</th>\n",
       "      <th>host_has_profile_pic</th>\n",
       "      <th>host_identity_verified</th>\n",
       "      <th>latitude</th>\n",
       "      <th>accommodates</th>\n",
       "      <th>bedrooms</th>\n",
       "      <th>...</th>\n",
       "      <th>amenity_heating</th>\n",
       "      <th>amenity_washer</th>\n",
       "      <th>amenity_dryer</th>\n",
       "      <th>host_verification_email</th>\n",
       "      <th>host_verification_phone</th>\n",
       "      <th>host_verification_photographer</th>\n",
       "      <th>host_verification_work_email</th>\n",
       "      <th>room_type_Hotel room</th>\n",
       "      <th>room_type_Private room</th>\n",
       "      <th>room_type_Shared room</th>\n",
       "    </tr>\n",
       "  </thead>\n",
       "  <tbody>\n",
       "    <tr>\n",
       "      <th>0</th>\n",
       "      <td>1.0</td>\n",
       "      <td>0.000000</td>\n",
       "      <td>0.897648</td>\n",
       "      <td>0.0</td>\n",
       "      <td>3.0</td>\n",
       "      <td>1.0</td>\n",
       "      <td>0.0</td>\n",
       "      <td>43.64080</td>\n",
       "      <td>2</td>\n",
       "      <td>1.462938</td>\n",
       "      <td>...</td>\n",
       "      <td>0</td>\n",
       "      <td>0</td>\n",
       "      <td>0</td>\n",
       "      <td>1</td>\n",
       "      <td>1</td>\n",
       "      <td>0</td>\n",
       "      <td>0</td>\n",
       "      <td>0.0</td>\n",
       "      <td>1.0</td>\n",
       "      <td>0.0</td>\n",
       "    </tr>\n",
       "    <tr>\n",
       "      <th>1</th>\n",
       "      <td>4.0</td>\n",
       "      <td>1.000000</td>\n",
       "      <td>0.930000</td>\n",
       "      <td>1.0</td>\n",
       "      <td>16.0</td>\n",
       "      <td>1.0</td>\n",
       "      <td>1.0</td>\n",
       "      <td>43.66143</td>\n",
       "      <td>1</td>\n",
       "      <td>1.462938</td>\n",
       "      <td>...</td>\n",
       "      <td>0</td>\n",
       "      <td>0</td>\n",
       "      <td>0</td>\n",
       "      <td>1</td>\n",
       "      <td>1</td>\n",
       "      <td>0</td>\n",
       "      <td>0</td>\n",
       "      <td>0.0</td>\n",
       "      <td>1.0</td>\n",
       "      <td>0.0</td>\n",
       "    </tr>\n",
       "    <tr>\n",
       "      <th>2</th>\n",
       "      <td>4.0</td>\n",
       "      <td>0.948186</td>\n",
       "      <td>0.897648</td>\n",
       "      <td>0.0</td>\n",
       "      <td>1.0</td>\n",
       "      <td>1.0</td>\n",
       "      <td>1.0</td>\n",
       "      <td>43.78345</td>\n",
       "      <td>2</td>\n",
       "      <td>1.000000</td>\n",
       "      <td>...</td>\n",
       "      <td>0</td>\n",
       "      <td>0</td>\n",
       "      <td>0</td>\n",
       "      <td>1</td>\n",
       "      <td>1</td>\n",
       "      <td>0</td>\n",
       "      <td>0</td>\n",
       "      <td>0.0</td>\n",
       "      <td>1.0</td>\n",
       "      <td>0.0</td>\n",
       "    </tr>\n",
       "    <tr>\n",
       "      <th>3</th>\n",
       "      <td>3.0</td>\n",
       "      <td>1.000000</td>\n",
       "      <td>0.220000</td>\n",
       "      <td>0.0</td>\n",
       "      <td>10.0</td>\n",
       "      <td>1.0</td>\n",
       "      <td>1.0</td>\n",
       "      <td>43.64608</td>\n",
       "      <td>4</td>\n",
       "      <td>1.000000</td>\n",
       "      <td>...</td>\n",
       "      <td>0</td>\n",
       "      <td>0</td>\n",
       "      <td>0</td>\n",
       "      <td>1</td>\n",
       "      <td>1</td>\n",
       "      <td>0</td>\n",
       "      <td>1</td>\n",
       "      <td>0.0</td>\n",
       "      <td>0.0</td>\n",
       "      <td>0.0</td>\n",
       "    </tr>\n",
       "    <tr>\n",
       "      <th>4</th>\n",
       "      <td>4.0</td>\n",
       "      <td>1.000000</td>\n",
       "      <td>0.800000</td>\n",
       "      <td>0.0</td>\n",
       "      <td>1.0</td>\n",
       "      <td>1.0</td>\n",
       "      <td>1.0</td>\n",
       "      <td>43.68219</td>\n",
       "      <td>7</td>\n",
       "      <td>3.000000</td>\n",
       "      <td>...</td>\n",
       "      <td>0</td>\n",
       "      <td>0</td>\n",
       "      <td>0</td>\n",
       "      <td>1</td>\n",
       "      <td>1</td>\n",
       "      <td>0</td>\n",
       "      <td>1</td>\n",
       "      <td>0.0</td>\n",
       "      <td>0.0</td>\n",
       "      <td>0.0</td>\n",
       "    </tr>\n",
       "  </tbody>\n",
       "</table>\n",
       "<p>5 rows × 52 columns</p>\n",
       "</div>"
      ],
      "text/plain": [
       "   host_response_time  host_response_rate  host_acceptance_rate  \\\n",
       "0                 1.0            0.000000              0.897648   \n",
       "1                 4.0            1.000000              0.930000   \n",
       "2                 4.0            0.948186              0.897648   \n",
       "3                 3.0            1.000000              0.220000   \n",
       "4                 4.0            1.000000              0.800000   \n",
       "\n",
       "   host_is_superhost  host_total_listings_count  host_has_profile_pic  \\\n",
       "0                0.0                        3.0                   1.0   \n",
       "1                1.0                       16.0                   1.0   \n",
       "2                0.0                        1.0                   1.0   \n",
       "3                0.0                       10.0                   1.0   \n",
       "4                0.0                        1.0                   1.0   \n",
       "\n",
       "   host_identity_verified  latitude  accommodates  bedrooms  ...  \\\n",
       "0                     0.0  43.64080             2  1.462938  ...   \n",
       "1                     1.0  43.66143             1  1.462938  ...   \n",
       "2                     1.0  43.78345             2  1.000000  ...   \n",
       "3                     1.0  43.64608             4  1.000000  ...   \n",
       "4                     1.0  43.68219             7  3.000000  ...   \n",
       "\n",
       "   amenity_heating  amenity_washer  amenity_dryer  host_verification_email  \\\n",
       "0                0               0              0                        1   \n",
       "1                0               0              0                        1   \n",
       "2                0               0              0                        1   \n",
       "3                0               0              0                        1   \n",
       "4                0               0              0                        1   \n",
       "\n",
       "   host_verification_phone  host_verification_photographer  \\\n",
       "0                        1                               0   \n",
       "1                        1                               0   \n",
       "2                        1                               0   \n",
       "3                        1                               0   \n",
       "4                        1                               0   \n",
       "\n",
       "   host_verification_work_email  room_type_Hotel room  room_type_Private room  \\\n",
       "0                             0                   0.0                     1.0   \n",
       "1                             0                   0.0                     1.0   \n",
       "2                             0                   0.0                     1.0   \n",
       "3                             1                   0.0                     0.0   \n",
       "4                             1                   0.0                     0.0   \n",
       "\n",
       "   room_type_Shared room  \n",
       "0                    0.0  \n",
       "1                    0.0  \n",
       "2                    0.0  \n",
       "3                    0.0  \n",
       "4                    0.0  \n",
       "\n",
       "[5 rows x 52 columns]"
      ]
     },
     "execution_count": 35,
     "metadata": {},
     "output_type": "execute_result"
    }
   ],
   "source": [
    "# Checkout the fianl dataframe with multicolinear columns removed\n",
    "X_multicollinear_reduced.head()"
   ]
  },
  {
   "cell_type": "code",
   "execution_count": 36,
   "id": "92be30cf",
   "metadata": {},
   "outputs": [
    {
     "data": {
      "text/plain": [
       "0        102.0\n",
       "1         60.0\n",
       "2         88.0\n",
       "3        338.0\n",
       "4        300.0\n",
       "         ...  \n",
       "60286     90.0\n",
       "60287    188.0\n",
       "60288     68.0\n",
       "60289    136.0\n",
       "60290     90.0\n",
       "Name: price, Length: 60291, dtype: float64"
      ]
     },
     "execution_count": 36,
     "metadata": {},
     "output_type": "execute_result"
    }
   ],
   "source": [
    "# Checkout the price (target) dataframe\n",
    "final_df[\"price\"]"
   ]
  },
  {
   "cell_type": "markdown",
   "id": "16ad8a40",
   "metadata": {},
   "source": [
    "# Base Model (Linear Regression) Third Iteration"
   ]
  },
  {
   "cell_type": "markdown",
   "id": "08c92d86",
   "metadata": {},
   "source": [
    "For out third iteration, we will be using linear regression with features already accounted for collinearity and multicollinearity. Additionally, we will also normalize the data and use PCA to combine features. We will use a pipeline so there is no leak in the data,  furthermore, we will also use Gridsearch to tune the hyperparameter to select the best values for the parameter, we will then use that to predict our prices from the x_test. \n",
    "\n",
    "- We will use PCA, which will account for overfitting of the model. However, it does ta\\ke away the feature explainability aspect as we will be combining the features in order to predict. "
   ]
  },
  {
   "cell_type": "code",
   "execution_count": 37,
   "id": "3fe42c21",
   "metadata": {},
   "outputs": [
    {
     "data": {
      "text/html": [
       "<style>#sk-container-id-2 {color: black;}#sk-container-id-2 pre{padding: 0;}#sk-container-id-2 div.sk-toggleable {background-color: white;}#sk-container-id-2 label.sk-toggleable__label {cursor: pointer;display: block;width: 100%;margin-bottom: 0;padding: 0.3em;box-sizing: border-box;text-align: center;}#sk-container-id-2 label.sk-toggleable__label-arrow:before {content: \"▸\";float: left;margin-right: 0.25em;color: #696969;}#sk-container-id-2 label.sk-toggleable__label-arrow:hover:before {color: black;}#sk-container-id-2 div.sk-estimator:hover label.sk-toggleable__label-arrow:before {color: black;}#sk-container-id-2 div.sk-toggleable__content {max-height: 0;max-width: 0;overflow: hidden;text-align: left;background-color: #f0f8ff;}#sk-container-id-2 div.sk-toggleable__content pre {margin: 0.2em;color: black;border-radius: 0.25em;background-color: #f0f8ff;}#sk-container-id-2 input.sk-toggleable__control:checked~div.sk-toggleable__content {max-height: 200px;max-width: 100%;overflow: auto;}#sk-container-id-2 input.sk-toggleable__control:checked~label.sk-toggleable__label-arrow:before {content: \"▾\";}#sk-container-id-2 div.sk-estimator input.sk-toggleable__control:checked~label.sk-toggleable__label {background-color: #d4ebff;}#sk-container-id-2 div.sk-label input.sk-toggleable__control:checked~label.sk-toggleable__label {background-color: #d4ebff;}#sk-container-id-2 input.sk-hidden--visually {border: 0;clip: rect(1px 1px 1px 1px);clip: rect(1px, 1px, 1px, 1px);height: 1px;margin: -1px;overflow: hidden;padding: 0;position: absolute;width: 1px;}#sk-container-id-2 div.sk-estimator {font-family: monospace;background-color: #f0f8ff;border: 1px dotted black;border-radius: 0.25em;box-sizing: border-box;margin-bottom: 0.5em;}#sk-container-id-2 div.sk-estimator:hover {background-color: #d4ebff;}#sk-container-id-2 div.sk-parallel-item::after {content: \"\";width: 100%;border-bottom: 1px solid gray;flex-grow: 1;}#sk-container-id-2 div.sk-label:hover label.sk-toggleable__label {background-color: #d4ebff;}#sk-container-id-2 div.sk-serial::before {content: \"\";position: absolute;border-left: 1px solid gray;box-sizing: border-box;top: 0;bottom: 0;left: 50%;z-index: 0;}#sk-container-id-2 div.sk-serial {display: flex;flex-direction: column;align-items: center;background-color: white;padding-right: 0.2em;padding-left: 0.2em;position: relative;}#sk-container-id-2 div.sk-item {position: relative;z-index: 1;}#sk-container-id-2 div.sk-parallel {display: flex;align-items: stretch;justify-content: center;background-color: white;position: relative;}#sk-container-id-2 div.sk-item::before, #sk-container-id-2 div.sk-parallel-item::before {content: \"\";position: absolute;border-left: 1px solid gray;box-sizing: border-box;top: 0;bottom: 0;left: 50%;z-index: -1;}#sk-container-id-2 div.sk-parallel-item {display: flex;flex-direction: column;z-index: 1;position: relative;background-color: white;}#sk-container-id-2 div.sk-parallel-item:first-child::after {align-self: flex-end;width: 50%;}#sk-container-id-2 div.sk-parallel-item:last-child::after {align-self: flex-start;width: 50%;}#sk-container-id-2 div.sk-parallel-item:only-child::after {width: 0;}#sk-container-id-2 div.sk-dashed-wrapped {border: 1px dashed gray;margin: 0 0.4em 0.5em 0.4em;box-sizing: border-box;padding-bottom: 0.4em;background-color: white;}#sk-container-id-2 div.sk-label label {font-family: monospace;font-weight: bold;display: inline-block;line-height: 1.2em;}#sk-container-id-2 div.sk-label-container {text-align: center;}#sk-container-id-2 div.sk-container {/* jupyter's `normalize.less` sets `[hidden] { display: none; }` but bootstrap.min.css set `[hidden] { display: none !important; }` so we also need the `!important` here to be able to override the default hidden behavior on the sphinx rendered scikit-learn.org. See: https://github.com/scikit-learn/scikit-learn/issues/21755 */display: inline-block !important;position: relative;}#sk-container-id-2 div.sk-text-repr-fallback {display: none;}</style><div id=\"sk-container-id-2\" class=\"sk-top-container\"><div class=\"sk-text-repr-fallback\"><pre>GridSearchCV(cv=5,\n",
       "             estimator=Pipeline(steps=[(&#x27;scaler&#x27;, StandardScaler()),\n",
       "                                       (&#x27;pca&#x27;, PCA()),\n",
       "                                       (&#x27;linear_regression&#x27;,\n",
       "                                        LinearRegression())]),\n",
       "             param_grid={&#x27;linear_regression__fit_intercept&#x27;: [True, False],\n",
       "                         &#x27;pca__n_components&#x27;: [5, 10, 20]},\n",
       "             scoring=&#x27;neg_mean_squared_error&#x27;)</pre><b>In a Jupyter environment, please rerun this cell to show the HTML representation or trust the notebook. <br />On GitHub, the HTML representation is unable to render, please try loading this page with nbviewer.org.</b></div><div class=\"sk-container\" hidden><div class=\"sk-item sk-dashed-wrapped\"><div class=\"sk-label-container\"><div class=\"sk-label sk-toggleable\"><input class=\"sk-toggleable__control sk-hidden--visually\" id=\"sk-estimator-id-6\" type=\"checkbox\" ><label for=\"sk-estimator-id-6\" class=\"sk-toggleable__label sk-toggleable__label-arrow\">GridSearchCV</label><div class=\"sk-toggleable__content\"><pre>GridSearchCV(cv=5,\n",
       "             estimator=Pipeline(steps=[(&#x27;scaler&#x27;, StandardScaler()),\n",
       "                                       (&#x27;pca&#x27;, PCA()),\n",
       "                                       (&#x27;linear_regression&#x27;,\n",
       "                                        LinearRegression())]),\n",
       "             param_grid={&#x27;linear_regression__fit_intercept&#x27;: [True, False],\n",
       "                         &#x27;pca__n_components&#x27;: [5, 10, 20]},\n",
       "             scoring=&#x27;neg_mean_squared_error&#x27;)</pre></div></div></div><div class=\"sk-parallel\"><div class=\"sk-parallel-item\"><div class=\"sk-item\"><div class=\"sk-label-container\"><div class=\"sk-label sk-toggleable\"><input class=\"sk-toggleable__control sk-hidden--visually\" id=\"sk-estimator-id-7\" type=\"checkbox\" ><label for=\"sk-estimator-id-7\" class=\"sk-toggleable__label sk-toggleable__label-arrow\">estimator: Pipeline</label><div class=\"sk-toggleable__content\"><pre>Pipeline(steps=[(&#x27;scaler&#x27;, StandardScaler()), (&#x27;pca&#x27;, PCA()),\n",
       "                (&#x27;linear_regression&#x27;, LinearRegression())])</pre></div></div></div><div class=\"sk-serial\"><div class=\"sk-item\"><div class=\"sk-serial\"><div class=\"sk-item\"><div class=\"sk-estimator sk-toggleable\"><input class=\"sk-toggleable__control sk-hidden--visually\" id=\"sk-estimator-id-8\" type=\"checkbox\" ><label for=\"sk-estimator-id-8\" class=\"sk-toggleable__label sk-toggleable__label-arrow\">StandardScaler</label><div class=\"sk-toggleable__content\"><pre>StandardScaler()</pre></div></div></div><div class=\"sk-item\"><div class=\"sk-estimator sk-toggleable\"><input class=\"sk-toggleable__control sk-hidden--visually\" id=\"sk-estimator-id-9\" type=\"checkbox\" ><label for=\"sk-estimator-id-9\" class=\"sk-toggleable__label sk-toggleable__label-arrow\">PCA</label><div class=\"sk-toggleable__content\"><pre>PCA()</pre></div></div></div><div class=\"sk-item\"><div class=\"sk-estimator sk-toggleable\"><input class=\"sk-toggleable__control sk-hidden--visually\" id=\"sk-estimator-id-10\" type=\"checkbox\" ><label for=\"sk-estimator-id-10\" class=\"sk-toggleable__label sk-toggleable__label-arrow\">LinearRegression</label><div class=\"sk-toggleable__content\"><pre>LinearRegression()</pre></div></div></div></div></div></div></div></div></div></div></div></div>"
      ],
      "text/plain": [
       "GridSearchCV(cv=5,\n",
       "             estimator=Pipeline(steps=[('scaler', StandardScaler()),\n",
       "                                       ('pca', PCA()),\n",
       "                                       ('linear_regression',\n",
       "                                        LinearRegression())]),\n",
       "             param_grid={'linear_regression__fit_intercept': [True, False],\n",
       "                         'pca__n_components': [5, 10, 20]},\n",
       "             scoring='neg_mean_squared_error')"
      ]
     },
     "execution_count": 37,
     "metadata": {},
     "output_type": "execute_result"
    }
   ],
   "source": [
    "# Pipeline with standard scaling, PCA and linear regression\n",
    "estimators_lr = [\n",
    "    ('scaler', StandardScaler()),\n",
    "    ('pca', PCA()),\n",
    "    ('linear_regression', LinearRegression())\n",
    "]\n",
    "\n",
    "pipe_linear_reg = Pipeline(estimators_lr)\n",
    "\n",
    "# Set the grid search parameters\n",
    "param_grid = {\n",
    "    'pca__n_components': [5, 10, 20], \n",
    "    'linear_regression__fit_intercept': [True, False]\n",
    "}\n",
    "\n",
    "# Create GridSearchCV \n",
    "grid_search_lr = GridSearchCV(pipe_linear_reg, param_grid, cv=5, scoring='neg_mean_squared_error')\n",
    "\n",
    "# Fit the grid search to the data\n",
    "grid_search_lr.fit(X_train, y_train)  \n",
    "\n"
   ]
  },
  {
   "cell_type": "code",
   "execution_count": 38,
   "id": "2608f5fd",
   "metadata": {},
   "outputs": [],
   "source": [
    "#Take the best model from grid search\n",
    "best_model_lr = grid_search_lr.best_estimator_\n",
    "\n",
    "# Predictions with the best model\n",
    "y_pred = best_model_lr.predict(X_test)"
   ]
  },
  {
   "cell_type": "code",
   "execution_count": 39,
   "id": "b3b04c16",
   "metadata": {},
   "outputs": [
    {
     "name": "stdout",
     "output_type": "stream",
     "text": [
      "{'linear_regression__fit_intercept': True, 'pca__n_components': 20}\n"
     ]
    }
   ],
   "source": [
    "# Best parameters\n",
    "\n",
    "best_params = grid_search_lr.best_params_\n",
    "print(best_params)"
   ]
  },
  {
   "cell_type": "markdown",
   "id": "53aa2721",
   "metadata": {},
   "source": [
    "The best parameters selected is a Linear Regression model with fit intercept as True and PCA n components as 20, which means it combines the features to principal component, where the number of PC is 20"
   ]
  },
  {
   "cell_type": "code",
   "execution_count": 46,
   "id": "132b9fae",
   "metadata": {},
   "outputs": [
    {
     "data": {
      "text/plain": [
       "0.4075304576533423"
      ]
     },
     "execution_count": 46,
     "metadata": {},
     "output_type": "execute_result"
    }
   ],
   "source": [
    "# Evaluation metrics (Train Set)\n",
    "best_model_lr.score(X_train, y_train)"
   ]
  },
  {
   "cell_type": "code",
   "execution_count": 47,
   "id": "c9196a44",
   "metadata": {},
   "outputs": [
    {
     "name": "stdout",
     "output_type": "stream",
     "text": [
      "{'R2': 0.4072171378628354, 'RMSE': 57.23565879987882, 'MAE': 42.295188047599346, 'MAPE': 32.55322068931644}\n"
     ]
    }
   ],
   "source": [
    "# Evaluation metrics ( Test Set)\n",
    "r2 = r2_score(y_test, y_pred) # explains variability\n",
    "rmse = mean_squared_error(y_test, y_pred, squared=False) \n",
    "mae = mean_absolute_error(y_test, y_pred)\n",
    "mape = mean_absolute_error(y_test, y_pred) / y_test.mean() * 100  # Mean Absolute Percentage Error\n",
    "\n",
    "evaluation_metrics = {\n",
    "    'R2': r2,\n",
    "    'RMSE': rmse,\n",
    "    'MAE': mae,\n",
    "    'MAPE': mape\n",
    "}\n",
    "\n",
    "print(evaluation_metrics)"
   ]
  },
  {
   "cell_type": "markdown",
   "id": "7f5e5c79",
   "metadata": {},
   "source": [
    "- The model's R-squared value of 0.408 indicates that it can explain around 41% of the variability in the Airbnb prices, which suggests a moderate fit to the data. \n",
    "\n",
    "- The Root Mean Squared Error (RMSE) of approximately 57.22 suggests that the model's predictions usually deviate from the actual prices by about 57.22 dollars, showing the average error.\n",
    "\n",
    "- The Mean Absolute Error (MAE) of 42.29 is another indicator of average prediction error\n",
    "\n",
    "- the Mean Absolute Percentage Error (MAPE) of 32.55% tells us that the model's predictions are on average about 1/3 away from the actual price.\n",
    "\n",
    "\n",
    "- The third iteration also decomposes the model using PCA, which accounts for over-fiting but is giving a lower R2 value of 0.408 compared to the second iteration that gave 0.44 without using PCA. "
   ]
  },
  {
   "cell_type": "code",
   "execution_count": 48,
   "id": "bbafe0cc",
   "metadata": {},
   "outputs": [
    {
     "data": {
      "text/plain": [
       "array([-11.44672028, -11.40628273, -10.52633066,  -7.50334797,\n",
       "        -6.13135361,  -4.41883775,  -3.87584799,  -2.43602813,\n",
       "        -2.08248271,  -0.8750554 ,  -0.536559  ,   0.21685362,\n",
       "         0.232146  ,   1.66210828,   3.38647488,   3.61645115,\n",
       "         6.79085397,   7.58487006,   8.3221277 ,  19.17964994])"
      ]
     },
     "execution_count": 48,
     "metadata": {},
     "output_type": "execute_result"
    }
   ],
   "source": [
    "# coefficients from the best model's linear regression \n",
    "coefficients = best_model_lr.named_steps['linear_regression'].coef_\n",
    "coefficients.sort()\n",
    "coefficients"
   ]
  },
  {
   "cell_type": "markdown",
   "id": "b0b76eb8",
   "metadata": {},
   "source": [
    "The top highest coefficients are 19,8.6, 6.82, which means that one unit increase in the price increases the price by 19,8.6, 6.82 dollars, it is difficult to say which features exactly as PCA combines the features."
   ]
  },
  {
   "cell_type": "markdown",
   "id": "792f752b",
   "metadata": {},
   "source": [
    "## Advanced Modelling ( Random Forest Regressor 1st Iteration) "
   ]
  },
  {
   "cell_type": "code",
   "execution_count": 49,
   "id": "cee61183",
   "metadata": {},
   "outputs": [],
   "source": [
    "# Assign variables for X and y \n",
    "X = X_multicollinear_reduced\n",
    "y = final_df[\"price\"]"
   ]
  },
  {
   "cell_type": "markdown",
   "id": "48777c96",
   "metadata": {},
   "source": [
    "We'll divide the data into three parts: a training set, a validation set, and a test set. This way, we can adjust the model's settings using the training and validation sets. After that, we'll use the test set to see how well our model works.We use a validation set to test our model as we adjust it to make sure it learns well. "
   ]
  },
  {
   "cell_type": "code",
   "execution_count": 50,
   "id": "25b2c1e1",
   "metadata": {},
   "outputs": [],
   "source": [
    "# Train test split remainder and test sets \n",
    "X_remainder, X_test, y_remainder, y_test = train_test_split(X, y, test_size=0.2, random_state=42)"
   ]
  },
  {
   "cell_type": "markdown",
   "id": "8d7dc500",
   "metadata": {},
   "source": [
    "<img src = \"http://drive.google.com/uc?export=view&id=1qUP76zVM-zyePrTcl3PGVefNBTfVKWWw\" width = 500>\n",
    "<center> <i><a href=\"https://miro.medium.com/max/1400/1*Nv2NNALuokZEcV6hYEHdGA.png\">Image Source</a></i></center>"
   ]
  },
  {
   "cell_type": "code",
   "execution_count": 51,
   "id": "147069b1",
   "metadata": {},
   "outputs": [],
   "source": [
    "# Further split the data into validation and train_rem\n",
    "X_train, X_validation, y_train, y_validation = train_test_split(X_remainder, y_remainder, test_size=0.2, random_state=42)"
   ]
  },
  {
   "cell_type": "markdown",
   "id": "4ce8effd",
   "metadata": {},
   "source": [
    "we'll standardize our dataset for consistency as its important with random forest. Then, we will apply a Random Forest model. To optimize the model, we'll use a manual process where we'll loop through different values of 'max depth'. As we test each value, we'll record how well the model performs on both the training set and the validation set. This will help us visualize the performance and select the best 'max depth' value for our Random Forest model."
   ]
  },
  {
   "cell_type": "code",
   "execution_count": 52,
   "id": "6b59fef0",
   "metadata": {},
   "outputs": [],
   "source": [
    "# Scale the dataset\n",
    "SC = StandardScaler() # instantiate the scaler estimator\n",
    "\n",
    "X_train_scaled = SC.fit_transform(X_train) # fit\n",
    "X_validation_scaled = SC.transform(X_validation) # transform it\n",
    "\n",
    "validation_score = list() # create empty list\n",
    "train_score = list()\n",
    "\n",
    "max_depth = [2,6,10,14,18] # hyper parameter values \n",
    "\n",
    "for depth in max_depth:  # For loop to select the best max depth \n",
    "    \n",
    "    RF = RandomForestRegressor(max_depth=depth)\n",
    "    \n",
    "    RF.fit(X_train_scaled, y_train)\n",
    "    \n",
    "    train_score.append(RF.score(X_train_scaled, y_train))\n",
    "    validation_score.append(RF.score(X_validation_scaled, y_validation))"
   ]
  },
  {
   "cell_type": "code",
   "execution_count": 85,
   "id": "47cf4cd4",
   "metadata": {},
   "outputs": [
    {
     "data": {
      "text/plain": [
       "<matplotlib.legend.Legend at 0x28a2ebdf0>"
      ]
     },
     "execution_count": 85,
     "metadata": {},
     "output_type": "execute_result"
    },
    {
     "data": {
      "image/png": "[encoded data removed]",
      "text/plain": [
       "<Figure size 600x600 with 1 Axes>"
      ]
     },
     "metadata": {},
     "output_type": "display_data"
    }
   ],
   "source": [
    "# Plot the R^2 vs Max_depth for train and test set to pick a max depth value \n",
    "plt.figure(figsize = (6,6))\n",
    "plt.plot(max_depth, train_score, label = \"train\")\n",
    "plt.plot(max_depth, validation_score, label = \"val\")\n",
    "plt.xlabel(\"Max Depth\")\n",
    "plt.ylabel(\"R^2\")\n",
    "plt.title(\"R^2 vs Tree Depth\")\n",
    "plt.legend()"
   ]
  },
  {
   "cell_type": "markdown",
   "id": "746358a2",
   "metadata": {},
   "source": [
    "While tuning the 'max depth' parameter of our model, we often notice that too much depth can lead to overfitting. This means the model gets too complex, trying to capture every small detail, including noise in the training data, which can be misleading. What we're looking for is a balance where the model's error is low, but it's not overcomplicating things. After observing the performance, we've decided that a max depth of 8 is ideal. It minimizes error without overfitting. So, for our final tests, we'll set the max depth to 8 to ensure our model performs well without fitting the training data too closely."
   ]
  },
  {
   "cell_type": "code",
   "execution_count": 54,
   "id": "d2c2b431",
   "metadata": {},
   "outputs": [
    {
     "name": "stdout",
     "output_type": "stream",
     "text": [
      "The test score is: 0.5519232449087247\n",
      "The train score is: 0.5993319525906002\n"
     ]
    }
   ],
   "source": [
    "# Standardize the test set\n",
    "X_test_scaled = SC.transform(X_test)\n",
    "\n",
    "\n",
    "# Instantiate the model\n",
    "RFF = RandomForestRegressor(max_depth=8)\n",
    "\n",
    "# Fit the model\n",
    "RFF.fit(X_train_scaled, y_train)\n",
    "\n",
    "# Evaluate the model\n",
    "print(f\"The test score is: {RFF.score(X_test_scaled,y_test)}\")\n",
    "print(f\"The train score is: {RFF.score(X_train_scaled, y_train)}\")"
   ]
  },
  {
   "cell_type": "markdown",
   "id": "0ff202d3",
   "metadata": {},
   "source": [
    "The results shows that our model using Random Forest with a max depth of 8 has yielded a test score of approximately 0.55 and a train score of about 0.60. These scores shows the model's ability to explain the variability of the target variable based on the features it has learned. In contrast, our baseline model, which was a Linear Regression, had an R^2 score of 0.44.\n",
    "\n",
    "This improvement from 0.4 to 0.55 in the test score suggests that the Random Forest model with the chosen max depth is a better fit for our data than the simpler Linear Regression model. The higher scores mean that the Random Forest is capturing more patterns in the data.\n",
    "\n",
    "The difference between the train score and the test score in the Random Forest model also shows a slight overfitting, as the model performs better on the training data than on unseen test data. Nonetheless, the scores are relatively close, which is a good sign that our model is generalizing well."
   ]
  },
  {
   "cell_type": "markdown",
   "id": "ba1c256d",
   "metadata": {},
   "source": [
    "## Advanced Modelling ( Random Forest Iteration 2nd Iteration) "
   ]
  },
  {
   "cell_type": "markdown",
   "id": "1a77212f",
   "metadata": {},
   "source": [
    "The manual hyperparameter tuning is a good idea to build an intuition, however there are a few problems with this method:\n",
    "\n",
    "- There's more to a model's parameter than just 'max depth.' Other parameters can also significantly impact the model's performance.\n",
    "\n",
    "- When we split our data into training and validation sets, we can't be sure that our split is the best representation of all the data we have. To address this, we use a technique called K-fold cross-validation. This method divides the data into several sections and then uses each one as a validation set at different times. This helps ensure that we use all our data effectively to evaluate our model and choose the best settings.\n",
    "\n",
    "K-fold cross-validation gives us a better way to select hyperparameters by ensuring that our model is tested on various subsets of the data.This way, we can be more confident that the model will perform well on unseen data."
   ]
  },
  {
   "cell_type": "markdown",
   "id": "8e2a13ef",
   "metadata": {},
   "source": [
    "<img src = \"http://drive.google.com/uc?export=view&id=1S4VN1EaAMReqzFhRbG-qplGL77oIJnwE\" width = 800>"
   ]
  },
  {
   "cell_type": "code",
   "execution_count": 55,
   "id": "24b1158c",
   "metadata": {},
   "outputs": [],
   "source": [
    "# Assign variables\n",
    "X = X_multicollinear_reduced\n",
    "y = final_df[\"price\"]\n",
    "\n",
    "# Train test split \n",
    "X_remainder, X_test, y_remainder, y_test = train_test_split(X, y, test_size=0.2, random_state=42)"
   ]
  },
  {
   "cell_type": "markdown",
   "id": "3ecccbd8",
   "metadata": {},
   "source": [
    "- The 'min_samples_split' parameter in a Random Forest model is like a rule for deciding when the model should stop splitting up the data into smaller groups. The 'min_samples_split' tells you how small these groups can be before you stop dividing them further. If the number is small, you keep making lots of tiny groups. If it's big, you end up with fewer, larger groups.\n",
    "\n",
    "- Why is this important? Because, if you make too many tiny groups, the model might get too caught up in the tiny details and miss the bigger picture. But if your groups are too big, it might not see important patterns in the data.\n",
    "\n",
    "- we will use K-fold cross-validation to figure out the best number for 'min_samples_split'. We'll try few of different numbers in a loop, each time checking how well our model does. Then we'll take the average score from all these tests to pick the number that works best. This chosen 'min_samples_split' will then be used on our test data to see how well our model really performs."
   ]
  },
  {
   "cell_type": "code",
   "execution_count": 79,
   "id": "c02588fb",
   "metadata": {},
   "outputs": [],
   "source": [
    "# Scale the dataset\n",
    "SC = StandardScaler() # instantiate the scaler estimator\n",
    "\n",
    "X_remainder_scaled = SC.fit_transform(X_remainder) # fit\n",
    "\n",
    "cross_val_scores = list()\n",
    "\n",
    "min_samples_split = [2,6,10,14,18]\n",
    "\n",
    "for sample in min_samples_split:\n",
    "    RF_model = RandomForestRegressor(min_samples_split=sample, max_depth=8, random_state = 42)\n",
    "    \n",
    "    cv_score = np.mean(cross_val_score(RF_model, X_remainder_scaled, y_remainder, cv = 5 ))\n",
    "    \n",
    "    cross_val_scores.append(cv_score)"
   ]
  },
  {
   "cell_type": "code",
   "execution_count": 84,
   "id": "9acb89ff",
   "metadata": {},
   "outputs": [
    {
     "data": {
      "image/png": "[encoded data removed]",
      "text/plain": [
       "<Figure size 1000x1000 with 1 Axes>"
      ]
     },
     "metadata": {},
     "output_type": "display_data"
    }
   ],
   "source": [
    "# Plot the figure\n",
    "plt.figure(figsize = (10,10))\n",
    "plt.plot(min_samples_split, cross_val_scores,label=\"Cross Validation Score\",marker='.')\n",
    "plt.title(\"Cross validation scores VS Min samples split\")\n",
    "plt.legend()\n",
    "plt.xlabel('Min samples split')\n",
    "plt.ylabel('Cross Validation Score')\n",
    "plt.show()"
   ]
  },
  {
   "cell_type": "markdown",
   "id": "7016a595",
   "metadata": {},
   "source": [
    "At min samples split = 6, we get the best mean scores. So, we can use min_samples_split= 6 for the test set"
   ]
  },
  {
   "cell_type": "code",
   "execution_count": 58,
   "id": "a9ce81dd",
   "metadata": {},
   "outputs": [
    {
     "name": "stdout",
     "output_type": "stream",
     "text": [
      "The test score is: 0.5523215397075356\n",
      "The train score is: 0.5937017934920328\n"
     ]
    }
   ],
   "source": [
    "# Standardize the test set\n",
    "X_test_scaled = SC.transform(X_test)\n",
    "\n",
    "# Instantiate the model\n",
    "RFF = RandomForestRegressor(max_depth=8, min_samples_split= 6,random_state = 42)\n",
    "\n",
    "# Fit the model\n",
    "RFF.fit(X_remainder_scaled, y_remainder)\n",
    "\n",
    "# Evaluate the model\n",
    "print(f\"The test score is: {RFF.score(X_test_scaled,y_test)}\")\n",
    "print(f\"The train score is: {RFF.score(X_remainder_scaled, y_remainder)}\")"
   ]
  },
  {
   "cell_type": "markdown",
   "id": "1ee684b6",
   "metadata": {},
   "source": [
    "There is not much difference from the previous iteration to this, lets try more feature engineering"
   ]
  },
  {
   "cell_type": "markdown",
   "id": "4dc8c87d",
   "metadata": {},
   "source": [
    "- A good rule of thumb is keeping  20% of your data in each fold, or 5-fold cross validation.\n",
    "- We see that, the test baerly improved our result. "
   ]
  },
  {
   "cell_type": "markdown",
   "id": "982c06bb",
   "metadata": {},
   "source": [
    "### Y transformed to Log(Y)"
   ]
  },
  {
   "cell_type": "markdown",
   "id": "acc05a6f",
   "metadata": {},
   "source": [
    "Another feature engineering we can do is transform the prices to log prices, this transformation can help the dataset to be better distributed removing skewness and the affect of outliers in the modelling."
   ]
  },
  {
   "cell_type": "code",
   "execution_count": 81,
   "id": "1487749c",
   "metadata": {},
   "outputs": [
    {
     "data": {
      "image/png": "[encoded data removed]",
      "text/plain": [
       "<Figure size 640x480 with 1 Axes>"
      ]
     },
     "metadata": {},
     "output_type": "display_data"
    }
   ],
   "source": [
    "# Plot the distribution of the 'price' column from 'final_df'\n",
    "sns.distplot(final_df[\"price\"])\n",
    "\n",
    "# Labeling the plot\n",
    "plt.xlabel('Price')  # X-axis label\n",
    "plt.ylabel('Density')  # Y-axis label\n",
    "plt.title('Distribution of Prices')  # Title of the plot\n",
    "\n",
    "# Display the plot\n",
    "plt.show()"
   ]
  },
  {
   "cell_type": "markdown",
   "id": "ffc7a967",
   "metadata": {},
   "source": [
    "We can see that there is a long right skew in the distribution, which maybe making it difficult for the model to grasp the patterns within."
   ]
  },
  {
   "cell_type": "code",
   "execution_count": 82,
   "id": "cfed9ace",
   "metadata": {},
   "outputs": [],
   "source": [
    "# Convert the prices to log prices\n",
    "log_price = np.log(final_df[\"price\"])\n",
    "log_price[np.isinf(log_price)] = 0"
   ]
  },
  {
   "cell_type": "code",
   "execution_count": 83,
   "id": "869c03c6",
   "metadata": {},
   "outputs": [
    {
     "data": {
      "image/png": "[encoded data removed]",
      "text/plain": [
       "<Figure size 640x480 with 1 Axes>"
      ]
     },
     "metadata": {},
     "output_type": "display_data"
    }
   ],
   "source": [
    "# Plot the distribution of the 'price' column from 'final_df'\n",
    "sns.distplot(log_price)\n",
    "\n",
    "# Labeling the plot\n",
    "plt.xlabel('Log Price')  # X-axis label\n",
    "plt.ylabel('Density')  # Y-axis label\n",
    "plt.title('Distribution of Log Prices')  # Title of the plot\n",
    "\n",
    "# Display the plot\n",
    "plt.show()"
   ]
  },
  {
   "cell_type": "markdown",
   "id": "f13ca492",
   "metadata": {},
   "source": [
    "Here after the transformation, we see a better normal distribution. This can lead to better model performance and more reliable predictions."
   ]
  },
  {
   "cell_type": "code",
   "execution_count": 62,
   "id": "c45c80a0",
   "metadata": {},
   "outputs": [],
   "source": [
    "# Apply log transformation to the variables y_remainder and y_test\n",
    "y_remainder_log = np.log(y_remainder)\n",
    "y_test_log = np.log(y_test)\n",
    "\n",
    "# Convert 'inf' and '-inf' values to 0\n",
    "y_remainder_log[np.isinf(y_remainder_log)] = 0\n",
    "y_test_log[np.isinf(y_test_log)] = 0"
   ]
  },
  {
   "cell_type": "code",
   "execution_count": 63,
   "id": "a41c25a3",
   "metadata": {},
   "outputs": [
    {
     "name": "stdout",
     "output_type": "stream",
     "text": [
      "The test score is: 0.6034510960632162\n",
      "The train score is: 0.6265122279927573\n"
     ]
    }
   ],
   "source": [
    "# Standardize the test set\n",
    "X_test_scaled = SC.transform(X_test)\n",
    "\n",
    "# Instantiate the model\n",
    "RFF = RandomForestRegressor(max_depth=8, min_samples_split= 4,random_state = 42)\n",
    "\n",
    "# Fit the model\n",
    "RFF.fit(X_remainder_scaled, y_remainder_log)\n",
    "\n",
    "# Evaluate the model\n",
    "print(f\"The test score is: {RFF.score(X_test_scaled,y_test_log)}\")\n",
    "print(f\"The train score is: {RFF.score(X_remainder_scaled, y_remainder_log)}\")"
   ]
  },
  {
   "cell_type": "markdown",
   "id": "b9f0593b",
   "metadata": {},
   "source": [
    "By applying a logarithmic transformation to the Airbnb prices, we have seen a noticable improvement in the model's performance. Specifically, the test score has increased from 0.552 to 0.604, and the train score has improved from 0.594 to 0.627. This increase in scores reflects a model that is now better at capturing the underlying patterns in the data, leading to more accurate predictions of Airbnb prices."
   ]
  },
  {
   "cell_type": "markdown",
   "id": "54e025f7",
   "metadata": {},
   "source": [
    "## GRIDSEARCHCV ( XG Boost regressor)"
   ]
  },
  {
   "cell_type": "markdown",
   "id": "397bde03",
   "metadata": {},
   "source": [
    "For our next iteration, we'll be using the XGBoost regressor, a powerful model that excels in handling complex datasets by building on decision trees sequentially to improve predictions.we will also use grid search,an approach to tuning the model's parameters, such as the number of estimators and learning rate, to find the optimal configuration for the most accurate results. "
   ]
  },
  {
   "cell_type": "code",
   "execution_count": 64,
   "id": "bdef39b9",
   "metadata": {},
   "outputs": [],
   "source": [
    "# Define the pipeline\n",
    "pipeline = Pipeline([\n",
    "    ('scaler', StandardScaler()),  # Standardization\n",
    "    ('xgb', XGBRegressor())        \n",
    "])\n",
    "\n",
    "# Define the parameter grid for XGBoost\n",
    "param_grid = {\n",
    "    'xgb__n_estimators': [100, 200],\n",
    "    'xgb__learning_rate': [0.01, 0.1],\n",
    "    'xgb__max_depth': [3, 5],\n",
    "    'xgb__subsample': [0.7, 1],\n",
    "    'xgb__colsample_bytree': [0.7, 1]\n",
    "}\n",
    "\n",
    "# Create a GridSearchCV object\n",
    "grid_search = GridSearchCV(pipeline, param_grid, cv=5,scoring='neg_mean_squared_error')\n",
    "\n",
    "grid_search.fit(X_remainder, y_remainder_log)\n",
    "\n",
    "best_params = grid_search.best_params_\n",
    "best_model = grid_search.best_estimator_\n"
   ]
  },
  {
   "cell_type": "code",
   "execution_count": 65,
   "id": "b6785dad",
   "metadata": {},
   "outputs": [
    {
     "data": {
      "text/plain": [
       "{'xgb__colsample_bytree': 1,\n",
       " 'xgb__learning_rate': 0.1,\n",
       " 'xgb__max_depth': 5,\n",
       " 'xgb__n_estimators': 200,\n",
       " 'xgb__subsample': 0.7}"
      ]
     },
     "execution_count": 65,
     "metadata": {},
     "output_type": "execute_result"
    }
   ],
   "source": [
    "# look at the best parameters\n",
    "best_params"
   ]
  },
  {
   "cell_type": "markdown",
   "id": "4f370246",
   "metadata": {},
   "source": [
    "These are the parameters that give the best model "
   ]
  },
  {
   "cell_type": "code",
   "execution_count": 66,
   "id": "311679ca",
   "metadata": {},
   "outputs": [
    {
     "data": {
      "text/html": [
       "<style>#sk-container-id-3 {color: black;}#sk-container-id-3 pre{padding: 0;}#sk-container-id-3 div.sk-toggleable {background-color: white;}#sk-container-id-3 label.sk-toggleable__label {cursor: pointer;display: block;width: 100%;margin-bottom: 0;padding: 0.3em;box-sizing: border-box;text-align: center;}#sk-container-id-3 label.sk-toggleable__label-arrow:before {content: \"▸\";float: left;margin-right: 0.25em;color: #696969;}#sk-container-id-3 label.sk-toggleable__label-arrow:hover:before {color: black;}#sk-container-id-3 div.sk-estimator:hover label.sk-toggleable__label-arrow:before {color: black;}#sk-container-id-3 div.sk-toggleable__content {max-height: 0;max-width: 0;overflow: hidden;text-align: left;background-color: #f0f8ff;}#sk-container-id-3 div.sk-toggleable__content pre {margin: 0.2em;color: black;border-radius: 0.25em;background-color: #f0f8ff;}#sk-container-id-3 input.sk-toggleable__control:checked~div.sk-toggleable__content {max-height: 200px;max-width: 100%;overflow: auto;}#sk-container-id-3 input.sk-toggleable__control:checked~label.sk-toggleable__label-arrow:before {content: \"▾\";}#sk-container-id-3 div.sk-estimator input.sk-toggleable__control:checked~label.sk-toggleable__label {background-color: #d4ebff;}#sk-container-id-3 div.sk-label input.sk-toggleable__control:checked~label.sk-toggleable__label {background-color: #d4ebff;}#sk-container-id-3 input.sk-hidden--visually {border: 0;clip: rect(1px 1px 1px 1px);clip: rect(1px, 1px, 1px, 1px);height: 1px;margin: -1px;overflow: hidden;padding: 0;position: absolute;width: 1px;}#sk-container-id-3 div.sk-estimator {font-family: monospace;background-color: #f0f8ff;border: 1px dotted black;border-radius: 0.25em;box-sizing: border-box;margin-bottom: 0.5em;}#sk-container-id-3 div.sk-estimator:hover {background-color: #d4ebff;}#sk-container-id-3 div.sk-parallel-item::after {content: \"\";width: 100%;border-bottom: 1px solid gray;flex-grow: 1;}#sk-container-id-3 div.sk-label:hover label.sk-toggleable__label {background-color: #d4ebff;}#sk-container-id-3 div.sk-serial::before {content: \"\";position: absolute;border-left: 1px solid gray;box-sizing: border-box;top: 0;bottom: 0;left: 50%;z-index: 0;}#sk-container-id-3 div.sk-serial {display: flex;flex-direction: column;align-items: center;background-color: white;padding-right: 0.2em;padding-left: 0.2em;position: relative;}#sk-container-id-3 div.sk-item {position: relative;z-index: 1;}#sk-container-id-3 div.sk-parallel {display: flex;align-items: stretch;justify-content: center;background-color: white;position: relative;}#sk-container-id-3 div.sk-item::before, #sk-container-id-3 div.sk-parallel-item::before {content: \"\";position: absolute;border-left: 1px solid gray;box-sizing: border-box;top: 0;bottom: 0;left: 50%;z-index: -1;}#sk-container-id-3 div.sk-parallel-item {display: flex;flex-direction: column;z-index: 1;position: relative;background-color: white;}#sk-container-id-3 div.sk-parallel-item:first-child::after {align-self: flex-end;width: 50%;}#sk-container-id-3 div.sk-parallel-item:last-child::after {align-self: flex-start;width: 50%;}#sk-container-id-3 div.sk-parallel-item:only-child::after {width: 0;}#sk-container-id-3 div.sk-dashed-wrapped {border: 1px dashed gray;margin: 0 0.4em 0.5em 0.4em;box-sizing: border-box;padding-bottom: 0.4em;background-color: white;}#sk-container-id-3 div.sk-label label {font-family: monospace;font-weight: bold;display: inline-block;line-height: 1.2em;}#sk-container-id-3 div.sk-label-container {text-align: center;}#sk-container-id-3 div.sk-container {/* jupyter's `normalize.less` sets `[hidden] { display: none; }` but bootstrap.min.css set `[hidden] { display: none !important; }` so we also need the `!important` here to be able to override the default hidden behavior on the sphinx rendered scikit-learn.org. See: https://github.com/scikit-learn/scikit-learn/issues/21755 */display: inline-block !important;position: relative;}#sk-container-id-3 div.sk-text-repr-fallback {display: none;}</style><div id=\"sk-container-id-3\" class=\"sk-top-container\"><div class=\"sk-text-repr-fallback\"><pre>Pipeline(steps=[(&#x27;scaler&#x27;, StandardScaler()),\n",
       "                (&#x27;xgb&#x27;,\n",
       "                 XGBRegressor(base_score=None, booster=None, callbacks=None,\n",
       "                              colsample_bylevel=None, colsample_bynode=None,\n",
       "                              colsample_bytree=1, device=None,\n",
       "                              early_stopping_rounds=None,\n",
       "                              enable_categorical=False, eval_metric=None,\n",
       "                              feature_types=None, gamma=None, grow_policy=None,\n",
       "                              importance_type=None,\n",
       "                              interaction_constraints=None, learning_rate=0.1,\n",
       "                              max_bin=None, max_cat_threshold=None,\n",
       "                              max_cat_to_onehot=None, max_delta_step=None,\n",
       "                              max_depth=5, max_leaves=None,\n",
       "                              min_child_weight=None, missing=nan,\n",
       "                              monotone_constraints=None, multi_strategy=None,\n",
       "                              n_estimators=200, n_jobs=None,\n",
       "                              num_parallel_tree=None, random_state=None, ...))])</pre><b>In a Jupyter environment, please rerun this cell to show the HTML representation or trust the notebook. <br />On GitHub, the HTML representation is unable to render, please try loading this page with nbviewer.org.</b></div><div class=\"sk-container\" hidden><div class=\"sk-item sk-dashed-wrapped\"><div class=\"sk-label-container\"><div class=\"sk-label sk-toggleable\"><input class=\"sk-toggleable__control sk-hidden--visually\" id=\"sk-estimator-id-11\" type=\"checkbox\" ><label for=\"sk-estimator-id-11\" class=\"sk-toggleable__label sk-toggleable__label-arrow\">Pipeline</label><div class=\"sk-toggleable__content\"><pre>Pipeline(steps=[(&#x27;scaler&#x27;, StandardScaler()),\n",
       "                (&#x27;xgb&#x27;,\n",
       "                 XGBRegressor(base_score=None, booster=None, callbacks=None,\n",
       "                              colsample_bylevel=None, colsample_bynode=None,\n",
       "                              colsample_bytree=1, device=None,\n",
       "                              early_stopping_rounds=None,\n",
       "                              enable_categorical=False, eval_metric=None,\n",
       "                              feature_types=None, gamma=None, grow_policy=None,\n",
       "                              importance_type=None,\n",
       "                              interaction_constraints=None, learning_rate=0.1,\n",
       "                              max_bin=None, max_cat_threshold=None,\n",
       "                              max_cat_to_onehot=None, max_delta_step=None,\n",
       "                              max_depth=5, max_leaves=None,\n",
       "                              min_child_weight=None, missing=nan,\n",
       "                              monotone_constraints=None, multi_strategy=None,\n",
       "                              n_estimators=200, n_jobs=None,\n",
       "                              num_parallel_tree=None, random_state=None, ...))])</pre></div></div></div><div class=\"sk-serial\"><div class=\"sk-item\"><div class=\"sk-estimator sk-toggleable\"><input class=\"sk-toggleable__control sk-hidden--visually\" id=\"sk-estimator-id-12\" type=\"checkbox\" ><label for=\"sk-estimator-id-12\" class=\"sk-toggleable__label sk-toggleable__label-arrow\">StandardScaler</label><div class=\"sk-toggleable__content\"><pre>StandardScaler()</pre></div></div></div><div class=\"sk-item\"><div class=\"sk-estimator sk-toggleable\"><input class=\"sk-toggleable__control sk-hidden--visually\" id=\"sk-estimator-id-13\" type=\"checkbox\" ><label for=\"sk-estimator-id-13\" class=\"sk-toggleable__label sk-toggleable__label-arrow\">XGBRegressor</label><div class=\"sk-toggleable__content\"><pre>XGBRegressor(base_score=None, booster=None, callbacks=None,\n",
       "             colsample_bylevel=None, colsample_bynode=None, colsample_bytree=1,\n",
       "             device=None, early_stopping_rounds=None, enable_categorical=False,\n",
       "             eval_metric=None, feature_types=None, gamma=None, grow_policy=None,\n",
       "             importance_type=None, interaction_constraints=None,\n",
       "             learning_rate=0.1, max_bin=None, max_cat_threshold=None,\n",
       "             max_cat_to_onehot=None, max_delta_step=None, max_depth=5,\n",
       "             max_leaves=None, min_child_weight=None, missing=nan,\n",
       "             monotone_constraints=None, multi_strategy=None, n_estimators=200,\n",
       "             n_jobs=None, num_parallel_tree=None, random_state=None, ...)</pre></div></div></div></div></div></div></div>"
      ],
      "text/plain": [
       "Pipeline(steps=[('scaler', StandardScaler()),\n",
       "                ('xgb',\n",
       "                 XGBRegressor(base_score=None, booster=None, callbacks=None,\n",
       "                              colsample_bylevel=None, colsample_bynode=None,\n",
       "                              colsample_bytree=1, device=None,\n",
       "                              early_stopping_rounds=None,\n",
       "                              enable_categorical=False, eval_metric=None,\n",
       "                              feature_types=None, gamma=None, grow_policy=None,\n",
       "                              importance_type=None,\n",
       "                              interaction_constraints=None, learning_rate=0.1,\n",
       "                              max_bin=None, max_cat_threshold=None,\n",
       "                              max_cat_to_onehot=None, max_delta_step=None,\n",
       "                              max_depth=5, max_leaves=None,\n",
       "                              min_child_weight=None, missing=nan,\n",
       "                              monotone_constraints=None, multi_strategy=None,\n",
       "                              n_estimators=200, n_jobs=None,\n",
       "                              num_parallel_tree=None, random_state=None, ...))])"
      ]
     },
     "execution_count": 66,
     "metadata": {},
     "output_type": "execute_result"
    }
   ],
   "source": [
    "# Checkout the best model\n",
    "best_model"
   ]
  },
  {
   "cell_type": "code",
   "execution_count": 67,
   "id": "a757e289",
   "metadata": {},
   "outputs": [],
   "source": [
    "# Predict \n",
    "log_predictions = best_model.predict(X_test)\n",
    "\n",
    "# Scale it back to original\n",
    "pred_original_scale = np.exp(log_predictions)"
   ]
  },
  {
   "cell_type": "code",
   "execution_count": 68,
   "id": "cc1e8acc",
   "metadata": {},
   "outputs": [
    {
     "data": {
      "text/plain": [
       "0.7214406659081385"
      ]
     },
     "execution_count": 68,
     "metadata": {},
     "output_type": "execute_result"
    }
   ],
   "source": [
    "# Evaluation metrics (Train Set)\n",
    "best_model.score(X_remainder, y_remainder_log)"
   ]
  },
  {
   "cell_type": "code",
   "execution_count": 69,
   "id": "63bc7052",
   "metadata": {},
   "outputs": [
    {
     "name": "stdout",
     "output_type": "stream",
     "text": [
      "{'R2': 0.6156503674999703, 'RMSE': 46.23828404083528, 'MAE': 30.216850697808184, 'MAPE': 23.31819582028383}\n"
     ]
    }
   ],
   "source": [
    "# Evaluation metrics ( Test Set)\n",
    "r2 = r2_score(y_test, pred_original_scale) # explains variability\n",
    "rmse = mean_squared_error(y_test, pred_original_scale, squared=False) \n",
    "mae = mean_absolute_error(y_test, pred_original_scale)\n",
    "mape = mean_absolute_error(y_test, pred_original_scale) / y_test.mean() * 100  # Mean Absolute Percentage Error\n",
    "\n",
    "evaluation_metrics = {\n",
    "    'R2': r2,\n",
    "    'RMSE': rmse,\n",
    "    'MAE': mae,\n",
    "    'MAPE': mape\n",
    "}\n",
    "\n",
    "print(evaluation_metrics)"
   ]
  },
  {
   "cell_type": "markdown",
   "id": "75cc65f1",
   "metadata": {},
   "source": [
    "The XGBoost model has delivered good results, with an R-squared value of 0.616 indicating that it can explain about 62% of the variability in the Airbnb prices, which is an improvement compared to the previous model's 0.604. The errors from the XGBoost predictions are also lower, with an RMSE of 46.24 and MAE of 30.22, suggesting that the predictions are closer to the actual prices than before. The Mean Absolute Percentage Error has also decreased to 23.32%, showing that the average prediction error as a percentage of the actual prices has reduced. And is always good to have lower MAPE value."
   ]
  },
  {
   "cell_type": "markdown",
   "id": "ccde78fa",
   "metadata": {},
   "source": [
    "## Final Iteration"
   ]
  },
  {
   "cell_type": "markdown",
   "id": "7d094148",
   "metadata": {},
   "source": [
    "In the final iteration, we will use GridSearchCV to carefully adjust and test the hyperparameter of each model—Ridge, Lasso, and XGBoost regressor to find the most accurate one. We will also try different methods of preparing our data, including standard scaling, min-max scaling, and power transformation, to see which method helps improve the model's predictions.\n",
    "\n",
    "- Ridge Regression: It adjusts the scale of the variables to prevent any single one from dominating the prediction.\n",
    "\n",
    "- Lasso Regression: Similar to Ridge but can also reduce unimportant variables to zero, effectively selecting only the most crucial factors.\n",
    "\n",
    "- XGBoost Regressor: A complex method that creates a series of decision trees, each learning from the errors of the last, for precise predictions. "
   ]
  },
  {
   "cell_type": "code",
   "execution_count": 70,
   "id": "b96947a6",
   "metadata": {},
   "outputs": [],
   "source": [
    "estimator = Pipeline([\n",
    "    ('scaler', None),\n",
    "    ('estimator', None)\n",
    "])\n",
    "\n",
    "# Define the parameter grid that includes both models and PCA\n",
    "param_grid = [\n",
    "    {\n",
    "        'scaler':[StandardScaler(), MinMaxScaler(), PowerTransformer()],\n",
    "        'estimator': [Ridge()],\n",
    "        'estimator__alpha': [0.1, 1, 10, 100]  # Regularization \n",
    "    },\n",
    "    {\n",
    "        'scaler':[StandardScaler(), MinMaxScaler()],\n",
    "        'estimator': [Lasso(max_iter=10000)],  \n",
    "        'estimator__alpha': [0.001, 0.01, 0.1, 1, 10]  # Regularization\n",
    "    },\n",
    "    {\n",
    "        'scaler':[StandardScaler(), MinMaxScaler()],\n",
    "        'estimator': [XGBRegressor()],\n",
    "        'estimator__n_estimators': [100, 200,300],\n",
    "        'estimator__learning_rate': [0.01, 0.1],\n",
    "        'estimator__max_depth': [3,6,12],\n",
    "        'estimator__subsample': [0.7, 1],\n",
    "        'estimator__colsample_bytree': [0.7, 1]\n",
    "    }\n",
    "]\n",
    "\n",
    "# Create a GridSearchCV \n",
    "c_grid_search = GridSearchCV(estimator, param_grid, cv=5, scoring='neg_mean_squared_error')\n",
    "\n",
    "# Fit the grid search\n",
    "c_grid_search.fit(X_remainder, y_remainder_log)\n",
    "\n",
    "# Get the best parameters and best model\n",
    "best_params_comb = c_grid_search.best_params_\n",
    "best_model_comb = c_grid_search.best_estimator_\n"
   ]
  },
  {
   "cell_type": "code",
   "execution_count": 71,
   "id": "e8de3df1",
   "metadata": {},
   "outputs": [
    {
     "name": "stdout",
     "output_type": "stream",
     "text": [
      "Pipeline(steps=[('scaler', StandardScaler()),\n",
      "                ('estimator',\n",
      "                 XGBRegressor(base_score=None, booster=None, callbacks=None,\n",
      "                              colsample_bylevel=None, colsample_bynode=None,\n",
      "                              colsample_bytree=0.7, device=None,\n",
      "                              early_stopping_rounds=None,\n",
      "                              enable_categorical=False, eval_metric=None,\n",
      "                              feature_types=None, gamma=None, grow_policy=None,\n",
      "                              importance_type=None,\n",
      "                              interaction_constraints=None, learning_rate=0.1,\n",
      "                              max_bin=None, max_cat_threshold=None,\n",
      "                              max_cat_to_onehot=None, max_delta_step=None,\n",
      "                              max_depth=12, max_leaves=None,\n",
      "                              min_child_weight=None, missing=nan,\n",
      "                              monotone_constraints=None, multi_strategy=None,\n",
      "                              n_estimators=300, n_jobs=None,\n",
      "                              num_parallel_tree=None, random_state=None, ...))])\n",
      "\n",
      "\n",
      "{'estimator': XGBRegressor(base_score=None, booster=None, callbacks=None,\n",
      "             colsample_bylevel=None, colsample_bynode=None,\n",
      "             colsample_bytree=None, device=None, early_stopping_rounds=None,\n",
      "             enable_categorical=False, eval_metric=None, feature_types=None,\n",
      "             gamma=None, grow_policy=None, importance_type=None,\n",
      "             interaction_constraints=None, learning_rate=None, max_bin=None,\n",
      "             max_cat_threshold=None, max_cat_to_onehot=None,\n",
      "             max_delta_step=None, max_depth=None, max_leaves=None,\n",
      "             min_child_weight=None, missing=nan, monotone_constraints=None,\n",
      "             multi_strategy=None, n_estimators=None, n_jobs=None,\n",
      "             num_parallel_tree=None, random_state=None, ...), 'estimator__colsample_bytree': 0.7, 'estimator__learning_rate': 0.1, 'estimator__max_depth': 12, 'estimator__n_estimators': 300, 'estimator__subsample': 1, 'scaler': StandardScaler()}\n"
     ]
    }
   ],
   "source": [
    "print(best_model_comb)\n",
    "print(\"\\n\")\n",
    "print(best_params_comb)"
   ]
  },
  {
   "cell_type": "code",
   "execution_count": 72,
   "id": "f9525623",
   "metadata": {},
   "outputs": [],
   "source": [
    "# Predict \n",
    "pred = best_model_comb.predict(X_test)\n",
    "\n",
    "# Scale it back to original\n",
    "pred_original_scaled = np.exp(pred)"
   ]
  },
  {
   "cell_type": "code",
   "execution_count": 73,
   "id": "15ab6045",
   "metadata": {},
   "outputs": [
    {
     "data": {
      "text/plain": [
       "0.9922881831747566"
      ]
     },
     "execution_count": 73,
     "metadata": {},
     "output_type": "execute_result"
    }
   ],
   "source": [
    "# Train set Evaluation\n",
    "best_model_comb.score(X_remainder, y_remainder_log)"
   ]
  },
  {
   "cell_type": "code",
   "execution_count": 74,
   "id": "9c1d4986",
   "metadata": {},
   "outputs": [
    {
     "name": "stdout",
     "output_type": "stream",
     "text": [
      "{'R2': 0.6542638197152777, 'RMSE': 43.85416923441549, 'MAE': 27.010948623782493, 'MAPE': 20.84421687752764}\n"
     ]
    }
   ],
   "source": [
    "# Evaluation metrics ( Test set)\n",
    "r2 = r2_score(y_test, pred_original_scaled) # explains variability\n",
    "rmse = mean_squared_error(y_test, pred_original_scaled, squared=False) \n",
    "mae = mean_absolute_error(y_test, pred_original_scaled)\n",
    "mape = mean_absolute_error(y_test, pred_original_scaled) / y_test.mean() * 100  # Mean Absolute Percentage Error\n",
    "\n",
    "evaluation_metrics = {\n",
    "    'R2': r2,\n",
    "    'RMSE': rmse,\n",
    "    'MAE': mae,\n",
    "    'MAPE': mape\n",
    "}\n",
    "\n",
    "print(evaluation_metrics)"
   ]
  },
  {
   "cell_type": "markdown",
   "id": "02184687",
   "metadata": {},
   "source": [
    "The R-squared value has increased to 0.654, meaning the model can now explain about 65% of the variance in Airbnb prices,improvement from the previous 61%. This indicates a stronger predictive power. The errors have decreased across the board as well.the RMSE is now around 43.85, which is down from 46.24, which means the model's predictions are, on average, closer to the actual prices. The MAE has also improved to 27.01, indicating a better average deviation from the true values compared to the previous 30.22. Lastly, the MAPE has dropped to 20.84%, suggesting the percentage error relative to actual prices has become smaller. These results suggest that the final iteration of the model is the most accurate one."
   ]
  },
  {
   "cell_type": "markdown",
   "id": "5e0c3b66",
   "metadata": {},
   "source": [
    "# Deep Learning"
   ]
  },
  {
   "cell_type": "markdown",
   "id": "5b56cf68",
   "metadata": {},
   "source": [
    "We will build neural network for the last iteration to see if it does a better job at predicting the prices. Furthermore, with neural network, we can get a good understanding of the underlying pattern, however, we trade off the explanability aspect, since it goes through a black box. \n",
    "\n",
    "- Neural Network Model: It's made up of layers and each layer has a certain number of neurons\n",
    "\n",
    "- Dense: Each neuron in a dense layer is connected to all neurons in the previous layer\n",
    "\n",
    "- Dropout: This is a method where we randomly switch off some neurons during training. "
   ]
  },
  {
   "cell_type": "code",
   "execution_count": 75,
   "id": "85cb4349",
   "metadata": {},
   "outputs": [
    {
     "name": "stdout",
     "output_type": "stream",
     "text": [
      "Epoch 1/100\n",
      "965/965 [==============================] - 1s 713us/step - loss: 4511.6851 - mean_absolute_error: 47.2315 - val_loss: 2949.1228 - val_mean_absolute_error: 39.0461\n",
      "Epoch 2/100\n",
      "965/965 [==============================] - 1s 646us/step - loss: 3143.8374 - mean_absolute_error: 39.6335 - val_loss: 2839.8281 - val_mean_absolute_error: 37.7110\n",
      "Epoch 3/100\n",
      "965/965 [==============================] - 1s 666us/step - loss: 2980.0667 - mean_absolute_error: 39.0757 - val_loss: 2808.9182 - val_mean_absolute_error: 36.8477\n",
      "Epoch 4/100\n",
      "965/965 [==============================] - 1s 672us/step - loss: 2905.3164 - mean_absolute_error: 38.5384 - val_loss: 2736.2104 - val_mean_absolute_error: 37.0567\n",
      "Epoch 5/100\n",
      "965/965 [==============================] - 1s 731us/step - loss: 2851.9192 - mean_absolute_error: 38.2620 - val_loss: 2695.0850 - val_mean_absolute_error: 37.0505\n",
      "Epoch 6/100\n",
      "965/965 [==============================] - 1s 669us/step - loss: 2815.8606 - mean_absolute_error: 37.9360 - val_loss: 2664.9497 - val_mean_absolute_error: 36.6725\n",
      "Epoch 7/100\n",
      "965/965 [==============================] - 1s 649us/step - loss: 2765.4214 - mean_absolute_error: 37.6145 - val_loss: 2710.8440 - val_mean_absolute_error: 36.3416\n",
      "Epoch 8/100\n",
      "965/965 [==============================] - 1s 637us/step - loss: 2744.4355 - mean_absolute_error: 37.3545 - val_loss: 2592.2131 - val_mean_absolute_error: 36.1309\n",
      "Epoch 9/100\n",
      "965/965 [==============================] - 1s 638us/step - loss: 2706.6743 - mean_absolute_error: 37.1528 - val_loss: 2598.7070 - val_mean_absolute_error: 35.5206\n",
      "Epoch 10/100\n",
      "965/965 [==============================] - 1s 637us/step - loss: 2674.4390 - mean_absolute_error: 36.9489 - val_loss: 2565.2310 - val_mean_absolute_error: 35.2326\n",
      "Epoch 11/100\n",
      "965/965 [==============================] - 1s 711us/step - loss: 2656.7437 - mean_absolute_error: 36.7789 - val_loss: 2564.5791 - val_mean_absolute_error: 35.1969\n",
      "Epoch 12/100\n",
      "965/965 [==============================] - 1s 662us/step - loss: 2632.1196 - mean_absolute_error: 36.4844 - val_loss: 2519.3022 - val_mean_absolute_error: 35.4734\n",
      "Epoch 13/100\n",
      "965/965 [==============================] - 1s 657us/step - loss: 2616.8462 - mean_absolute_error: 36.4201 - val_loss: 2505.9976 - val_mean_absolute_error: 35.5766\n",
      "Epoch 14/100\n",
      "965/965 [==============================] - 1s 652us/step - loss: 2599.8193 - mean_absolute_error: 36.3355 - val_loss: 2580.5881 - val_mean_absolute_error: 36.5835\n",
      "Epoch 15/100\n",
      "965/965 [==============================] - 1s 677us/step - loss: 2595.0986 - mean_absolute_error: 36.2285 - val_loss: 2471.2249 - val_mean_absolute_error: 34.8266\n",
      "Epoch 16/100\n",
      "965/965 [==============================] - 1s 745us/step - loss: 2618.0203 - mean_absolute_error: 36.3674 - val_loss: 2487.0164 - val_mean_absolute_error: 35.3062\n",
      "Epoch 17/100\n",
      "965/965 [==============================] - 1s 680us/step - loss: 2565.3054 - mean_absolute_error: 36.0778 - val_loss: 2469.1711 - val_mean_absolute_error: 34.9160\n",
      "Epoch 18/100\n",
      "965/965 [==============================] - 1s 651us/step - loss: 2549.2434 - mean_absolute_error: 36.0374 - val_loss: 2441.6758 - val_mean_absolute_error: 35.0466\n",
      "Epoch 19/100\n",
      "965/965 [==============================] - 1s 648us/step - loss: 2539.3611 - mean_absolute_error: 35.8940 - val_loss: 2492.3792 - val_mean_absolute_error: 34.4777\n",
      "Epoch 20/100\n",
      "965/965 [==============================] - 1s 653us/step - loss: 2518.1570 - mean_absolute_error: 35.8422 - val_loss: 2486.3538 - val_mean_absolute_error: 34.3262\n",
      "Epoch 21/100\n",
      "965/965 [==============================] - 1s 642us/step - loss: 2518.4319 - mean_absolute_error: 35.6926 - val_loss: 2472.8066 - val_mean_absolute_error: 34.8517\n",
      "Epoch 22/100\n",
      "965/965 [==============================] - 1s 664us/step - loss: 2521.6660 - mean_absolute_error: 35.7521 - val_loss: 2446.4233 - val_mean_absolute_error: 34.4618\n",
      "Epoch 23/100\n",
      "965/965 [==============================] - 1s 640us/step - loss: 2513.0483 - mean_absolute_error: 35.6609 - val_loss: 2449.7266 - val_mean_absolute_error: 34.2075\n",
      "Epoch 24/100\n",
      "965/965 [==============================] - 1s 670us/step - loss: 2511.8237 - mean_absolute_error: 35.6108 - val_loss: 2479.1316 - val_mean_absolute_error: 35.6038\n",
      "Epoch 25/100\n",
      "965/965 [==============================] - 1s 637us/step - loss: 2479.2976 - mean_absolute_error: 35.4180 - val_loss: 2471.1489 - val_mean_absolute_error: 34.5481\n",
      "Epoch 26/100\n",
      "965/965 [==============================] - 1s 663us/step - loss: 2492.0732 - mean_absolute_error: 35.5473 - val_loss: 2408.5376 - val_mean_absolute_error: 34.4207\n",
      "Epoch 27/100\n",
      "965/965 [==============================] - 1s 638us/step - loss: 2470.3213 - mean_absolute_error: 35.3053 - val_loss: 2417.2979 - val_mean_absolute_error: 34.2117\n",
      "Epoch 28/100\n",
      "965/965 [==============================] - 1s 636us/step - loss: 2446.8943 - mean_absolute_error: 35.2184 - val_loss: 2424.4873 - val_mean_absolute_error: 34.4458\n",
      "Epoch 29/100\n",
      "965/965 [==============================] - 1s 636us/step - loss: 2446.5508 - mean_absolute_error: 35.1743 - val_loss: 2430.0876 - val_mean_absolute_error: 34.3673\n",
      "Epoch 30/100\n",
      "965/965 [==============================] - 1s 639us/step - loss: 2463.8008 - mean_absolute_error: 35.2420 - val_loss: 2435.4287 - val_mean_absolute_error: 33.8285\n",
      "Epoch 31/100\n",
      "965/965 [==============================] - 1s 638us/step - loss: 2445.3098 - mean_absolute_error: 35.1208 - val_loss: 2390.5425 - val_mean_absolute_error: 34.1655\n",
      "Epoch 32/100\n",
      "965/965 [==============================] - 1s 639us/step - loss: 2439.1528 - mean_absolute_error: 35.1894 - val_loss: 2391.0901 - val_mean_absolute_error: 33.9572\n",
      "Epoch 33/100\n",
      "965/965 [==============================] - 1s 638us/step - loss: 2426.7412 - mean_absolute_error: 35.1425 - val_loss: 2386.1169 - val_mean_absolute_error: 34.0217\n",
      "Epoch 34/100\n",
      "965/965 [==============================] - 1s 640us/step - loss: 2416.2317 - mean_absolute_error: 35.0047 - val_loss: 2387.8591 - val_mean_absolute_error: 34.2792\n",
      "Epoch 35/100\n",
      "965/965 [==============================] - 1s 635us/step - loss: 2413.2769 - mean_absolute_error: 34.8262 - val_loss: 2382.8208 - val_mean_absolute_error: 33.9746\n",
      "Epoch 36/100\n",
      "965/965 [==============================] - 1s 759us/step - loss: 2411.8975 - mean_absolute_error: 34.8731 - val_loss: 2393.4067 - val_mean_absolute_error: 34.1842\n",
      "Epoch 37/100\n",
      "965/965 [==============================] - 1s 668us/step - loss: 2398.2532 - mean_absolute_error: 34.8200 - val_loss: 2386.6873 - val_mean_absolute_error: 34.0147\n",
      "Epoch 38/100\n",
      "965/965 [==============================] - 1s 633us/step - loss: 2384.5291 - mean_absolute_error: 34.7081 - val_loss: 2423.6575 - val_mean_absolute_error: 34.7234\n",
      "Epoch 39/100\n",
      "965/965 [==============================] - 1s 637us/step - loss: 2401.9277 - mean_absolute_error: 34.8843 - val_loss: 2369.2681 - val_mean_absolute_error: 34.4175\n",
      "Epoch 40/100\n",
      "965/965 [==============================] - 1s 633us/step - loss: 2370.4209 - mean_absolute_error: 34.5746 - val_loss: 2366.9492 - val_mean_absolute_error: 34.0660\n",
      "Epoch 41/100\n",
      "965/965 [==============================] - 1s 632us/step - loss: 2384.3513 - mean_absolute_error: 34.6774 - val_loss: 2381.3174 - val_mean_absolute_error: 34.2109\n",
      "Epoch 42/100\n",
      "965/965 [==============================] - 1s 638us/step - loss: 2352.0374 - mean_absolute_error: 34.4397 - val_loss: 2372.4199 - val_mean_absolute_error: 34.4441\n",
      "Epoch 43/100\n",
      "965/965 [==============================] - 1s 635us/step - loss: 2397.6860 - mean_absolute_error: 34.7548 - val_loss: 2374.5344 - val_mean_absolute_error: 33.4849\n",
      "Epoch 44/100\n",
      "965/965 [==============================] - 1s 643us/step - loss: 2360.2832 - mean_absolute_error: 34.4847 - val_loss: 2407.7698 - val_mean_absolute_error: 33.5041\n",
      "Epoch 45/100\n",
      "965/965 [==============================] - 1s 632us/step - loss: 2371.4468 - mean_absolute_error: 34.5604 - val_loss: 2360.9951 - val_mean_absolute_error: 33.5354\n",
      "Epoch 46/100\n",
      "965/965 [==============================] - 1s 647us/step - loss: 2352.1394 - mean_absolute_error: 34.3826 - val_loss: 2357.7483 - val_mean_absolute_error: 33.7627\n",
      "Epoch 47/100\n",
      "965/965 [==============================] - 1s 638us/step - loss: 2334.2793 - mean_absolute_error: 34.3117 - val_loss: 2364.0837 - val_mean_absolute_error: 33.5820\n",
      "Epoch 48/100\n",
      "965/965 [==============================] - 1s 633us/step - loss: 2396.6035 - mean_absolute_error: 34.4132 - val_loss: 2370.8101 - val_mean_absolute_error: 33.5694\n",
      "Epoch 49/100\n",
      "965/965 [==============================] - 1s 660us/step - loss: 2310.6523 - mean_absolute_error: 34.0628 - val_loss: 2370.6497 - val_mean_absolute_error: 34.2538\n",
      "Epoch 50/100\n",
      "965/965 [==============================] - 1s 634us/step - loss: 2304.7266 - mean_absolute_error: 34.0582 - val_loss: 2366.4844 - val_mean_absolute_error: 34.1237\n",
      "Epoch 51/100\n",
      "965/965 [==============================] - 1s 635us/step - loss: 2321.5369 - mean_absolute_error: 34.1620 - val_loss: 2371.8293 - val_mean_absolute_error: 33.4857\n",
      "Epoch 52/100\n",
      "965/965 [==============================] - 1s 637us/step - loss: 2299.0466 - mean_absolute_error: 33.9348 - val_loss: 2380.3640 - val_mean_absolute_error: 33.5901\n",
      "Epoch 53/100\n",
      "965/965 [==============================] - 1s 633us/step - loss: 2284.2668 - mean_absolute_error: 33.9085 - val_loss: 2388.4331 - val_mean_absolute_error: 33.5361\n",
      "Epoch 54/100\n",
      "965/965 [==============================] - 1s 633us/step - loss: 2297.7095 - mean_absolute_error: 33.9203 - val_loss: 2353.1362 - val_mean_absolute_error: 33.5977\n",
      "Epoch 55/100\n",
      "965/965 [==============================] - 1s 632us/step - loss: 2285.1382 - mean_absolute_error: 33.8209 - val_loss: 2339.8899 - val_mean_absolute_error: 33.4864\n",
      "Epoch 56/100\n",
      "965/965 [==============================] - 1s 633us/step - loss: 2303.6042 - mean_absolute_error: 33.9362 - val_loss: 2395.8403 - val_mean_absolute_error: 34.5125\n",
      "Epoch 57/100\n",
      "965/965 [==============================] - 1s 631us/step - loss: 2286.1399 - mean_absolute_error: 33.9256 - val_loss: 2375.7219 - val_mean_absolute_error: 33.1945\n",
      "Epoch 58/100\n",
      "965/965 [==============================] - 1s 634us/step - loss: 2281.4636 - mean_absolute_error: 33.7628 - val_loss: 2372.0544 - val_mean_absolute_error: 33.9049\n",
      "Epoch 59/100\n",
      "965/965 [==============================] - 1s 633us/step - loss: 2294.7324 - mean_absolute_error: 33.8700 - val_loss: 2389.8376 - val_mean_absolute_error: 34.2548\n",
      "Epoch 60/100\n",
      "965/965 [==============================] - 1s 633us/step - loss: 2271.6497 - mean_absolute_error: 33.7220 - val_loss: 2343.0984 - val_mean_absolute_error: 33.4380\n",
      "Epoch 61/100\n",
      "965/965 [==============================] - 1s 634us/step - loss: 2280.8877 - mean_absolute_error: 33.8303 - val_loss: 2344.5979 - val_mean_absolute_error: 33.2211\n",
      "Epoch 62/100\n",
      "965/965 [==============================] - 1s 632us/step - loss: 2266.0510 - mean_absolute_error: 33.6120 - val_loss: 2323.5720 - val_mean_absolute_error: 33.7816\n",
      "Epoch 63/100\n",
      "965/965 [==============================] - 1s 710us/step - loss: 2260.2856 - mean_absolute_error: 33.6367 - val_loss: 2369.8999 - val_mean_absolute_error: 33.5871\n",
      "Epoch 64/100\n",
      "965/965 [==============================] - 1s 634us/step - loss: 2269.5562 - mean_absolute_error: 33.7949 - val_loss: 2362.7878 - val_mean_absolute_error: 34.4852\n",
      "Epoch 65/100\n",
      "965/965 [==============================] - 1s 637us/step - loss: 2230.6577 - mean_absolute_error: 33.4502 - val_loss: 2346.8872 - val_mean_absolute_error: 33.3942\n",
      "Epoch 66/100\n",
      "965/965 [==============================] - 1s 634us/step - loss: 2263.4187 - mean_absolute_error: 33.6760 - val_loss: 2363.3950 - val_mean_absolute_error: 33.1335\n",
      "Epoch 67/100\n",
      "965/965 [==============================] - 1s 664us/step - loss: 2249.1833 - mean_absolute_error: 33.5602 - val_loss: 2338.6633 - val_mean_absolute_error: 33.2326\n",
      "Epoch 68/100\n",
      "965/965 [==============================] - 1s 635us/step - loss: 2243.3833 - mean_absolute_error: 33.4844 - val_loss: 2369.0198 - val_mean_absolute_error: 34.2106\n",
      "Epoch 69/100\n",
      "965/965 [==============================] - 1s 632us/step - loss: 2254.6794 - mean_absolute_error: 33.5395 - val_loss: 2321.1228 - val_mean_absolute_error: 33.3131\n",
      "Epoch 70/100\n",
      "965/965 [==============================] - 1s 635us/step - loss: 2242.2788 - mean_absolute_error: 33.5400 - val_loss: 2348.2908 - val_mean_absolute_error: 33.7006\n",
      "Epoch 71/100\n",
      "965/965 [==============================] - 1s 632us/step - loss: 2227.1377 - mean_absolute_error: 33.4062 - val_loss: 2363.0144 - val_mean_absolute_error: 34.1840\n",
      "Epoch 72/100\n",
      "965/965 [==============================] - 1s 636us/step - loss: 2234.3091 - mean_absolute_error: 33.4082 - val_loss: 2408.6877 - val_mean_absolute_error: 33.1485\n",
      "Epoch 73/100\n",
      "965/965 [==============================] - 1s 648us/step - loss: 2232.4216 - mean_absolute_error: 33.3596 - val_loss: 2355.0847 - val_mean_absolute_error: 33.3730\n",
      "Epoch 74/100\n",
      "965/965 [==============================] - 1s 646us/step - loss: 2225.0144 - mean_absolute_error: 33.3707 - val_loss: 2345.0051 - val_mean_absolute_error: 32.9641\n",
      "Epoch 75/100\n",
      "965/965 [==============================] - 1s 633us/step - loss: 2208.0486 - mean_absolute_error: 33.2320 - val_loss: 2340.1057 - val_mean_absolute_error: 33.3512\n",
      "Epoch 76/100\n",
      "965/965 [==============================] - 1s 633us/step - loss: 2243.8269 - mean_absolute_error: 33.4550 - val_loss: 2363.9670 - val_mean_absolute_error: 33.9151\n",
      "Epoch 77/100\n",
      "965/965 [==============================] - 1s 635us/step - loss: 2220.2083 - mean_absolute_error: 33.2740 - val_loss: 2350.9915 - val_mean_absolute_error: 33.1742\n",
      "Epoch 78/100\n",
      "965/965 [==============================] - 1s 634us/step - loss: 2186.7964 - mean_absolute_error: 33.0481 - val_loss: 2337.7278 - val_mean_absolute_error: 33.2269\n",
      "Epoch 79/100\n",
      "965/965 [==============================] - 1s 633us/step - loss: 2194.3645 - mean_absolute_error: 33.1197 - val_loss: 2380.4495 - val_mean_absolute_error: 33.6775\n",
      "Epoch 80/100\n",
      "965/965 [==============================] - 1s 635us/step - loss: 2199.6926 - mean_absolute_error: 33.1474 - val_loss: 2327.1968 - val_mean_absolute_error: 32.9736\n",
      "Epoch 81/100\n",
      "965/965 [==============================] - 1s 649us/step - loss: 2206.8584 - mean_absolute_error: 33.1187 - val_loss: 2374.4407 - val_mean_absolute_error: 33.7796\n",
      "Epoch 82/100\n",
      "965/965 [==============================] - 1s 638us/step - loss: 2188.7488 - mean_absolute_error: 32.9888 - val_loss: 2343.5889 - val_mean_absolute_error: 33.1093\n",
      "Epoch 83/100\n",
      "965/965 [==============================] - 1s 637us/step - loss: 2206.2776 - mean_absolute_error: 33.1355 - val_loss: 2335.0957 - val_mean_absolute_error: 32.9446\n",
      "Epoch 84/100\n",
      "965/965 [==============================] - 1s 639us/step - loss: 2195.1755 - mean_absolute_error: 33.1501 - val_loss: 2352.0986 - val_mean_absolute_error: 32.9518\n",
      "Epoch 85/100\n",
      "965/965 [==============================] - 1s 640us/step - loss: 2168.0959 - mean_absolute_error: 32.8372 - val_loss: 2380.5093 - val_mean_absolute_error: 33.9609\n",
      "Epoch 86/100\n",
      "965/965 [==============================] - 1s 639us/step - loss: 2190.7200 - mean_absolute_error: 33.0877 - val_loss: 2328.5261 - val_mean_absolute_error: 32.9368\n",
      "Epoch 87/100\n",
      "965/965 [==============================] - 1s 733us/step - loss: 2175.7017 - mean_absolute_error: 32.9828 - val_loss: 2347.6987 - val_mean_absolute_error: 33.3771\n",
      "Epoch 88/100\n",
      "965/965 [==============================] - 1s 642us/step - loss: 2181.2168 - mean_absolute_error: 32.9832 - val_loss: 2359.9587 - val_mean_absolute_error: 33.5019\n",
      "Epoch 89/100\n",
      "965/965 [==============================] - 1s 650us/step - loss: 2162.1118 - mean_absolute_error: 32.8834 - val_loss: 2452.9651 - val_mean_absolute_error: 34.7029\n",
      "Epoch 90/100\n",
      "965/965 [==============================] - 1s 645us/step - loss: 2160.5723 - mean_absolute_error: 32.7717 - val_loss: 2330.0000 - val_mean_absolute_error: 33.0466\n",
      "Epoch 91/100\n",
      "965/965 [==============================] - 1s 644us/step - loss: 2163.6055 - mean_absolute_error: 32.8056 - val_loss: 2330.0059 - val_mean_absolute_error: 32.9939\n",
      "Epoch 92/100\n",
      "965/965 [==============================] - 1s 652us/step - loss: 2153.2551 - mean_absolute_error: 32.7517 - val_loss: 2334.9895 - val_mean_absolute_error: 32.8580\n",
      "Epoch 93/100\n",
      "965/965 [==============================] - 1s 637us/step - loss: 2144.9546 - mean_absolute_error: 32.7426 - val_loss: 2345.8518 - val_mean_absolute_error: 33.2727\n",
      "Epoch 94/100\n",
      "965/965 [==============================] - 1s 636us/step - loss: 2152.1521 - mean_absolute_error: 32.7267 - val_loss: 2340.3098 - val_mean_absolute_error: 33.2189\n",
      "Epoch 95/100\n",
      "965/965 [==============================] - 1s 637us/step - loss: 2158.8228 - mean_absolute_error: 32.6667 - val_loss: 2411.4243 - val_mean_absolute_error: 34.4317\n",
      "Epoch 96/100\n",
      "965/965 [==============================] - 1s 639us/step - loss: 2145.4741 - mean_absolute_error: 32.6296 - val_loss: 2335.9211 - val_mean_absolute_error: 32.9134\n",
      "Epoch 97/100\n",
      "965/965 [==============================] - 1s 634us/step - loss: 2182.2026 - mean_absolute_error: 32.8163 - val_loss: 2331.2666 - val_mean_absolute_error: 33.5735\n",
      "Epoch 98/100\n",
      "965/965 [==============================] - 1s 634us/step - loss: 2160.5864 - mean_absolute_error: 32.8192 - val_loss: 2354.4280 - val_mean_absolute_error: 33.6444\n",
      "Epoch 99/100\n",
      "965/965 [==============================] - 1s 636us/step - loss: 2138.1116 - mean_absolute_error: 32.5670 - val_loss: 2348.6824 - val_mean_absolute_error: 33.5999\n",
      "Epoch 100/100\n",
      "965/965 [==============================] - 1s 665us/step - loss: 2147.6194 - mean_absolute_error: 32.6824 - val_loss: 2317.8850 - val_mean_absolute_error: 33.0084\n"
     ]
    }
   ],
   "source": [
    "# Standardize the features\n",
    "scaler = StandardScaler()\n",
    "X_train_scaled = scaler.fit_transform(X_train)\n",
    "X_test_scaled = scaler.transform(X_test)\n",
    "\n",
    "# Build the neural network model\n",
    "model = Sequential([\n",
    "    Dense(128, activation='relu', input_shape=(X_train_scaled.shape[1],)),\n",
    "    Dropout(0.1),\n",
    "    Dense(64, activation='relu'),\n",
    "    Dropout(0.1),\n",
    "    Dense(32, activation='relu'),\n",
    "    Dropout(0.1),\n",
    "    Dense(1, activation='linear')  # for regression\n",
    "])\n",
    "\n",
    "# Compile the model\n",
    "model.compile(optimizer='adam', loss='mean_squared_error', metrics=['mean_absolute_error'])\n",
    "\n",
    "# Train the model\n",
    "model_NN = model.fit(X_train_scaled, y_train, validation_split=0.2, epochs=100, batch_size=32, verbose=1)\n"
   ]
  },
  {
   "cell_type": "code",
   "execution_count": 76,
   "id": "44b38767",
   "metadata": {},
   "outputs": [
    {
     "name": "stdout",
     "output_type": "stream",
     "text": [
      "377/377 [==============================] - 0s 304us/step\n"
     ]
    }
   ],
   "source": [
    "## Use the model to predict the x_test\n",
    "nn_y_pred = model.predict(X_test_scaled)"
   ]
  },
  {
   "cell_type": "code",
   "execution_count": 77,
   "id": "ed75ac26",
   "metadata": {},
   "outputs": [
    {
     "name": "stdout",
     "output_type": "stream",
     "text": [
      "{'R2': 0.5804362080267002, 'RMSE': 48.31004859807635, 'MAE': 33.34709387769351, 'MAPE': 25.733789164661324}\n"
     ]
    }
   ],
   "source": [
    "# Evaluation metrics\n",
    "r2 = r2_score(y_test, nn_y_pred) # explains variability\n",
    "rmse = mean_squared_error(y_test, nn_y_pred, squared=False) \n",
    "mae = mean_absolute_error(y_test, nn_y_pred)\n",
    "mape = mean_absolute_error(y_test, nn_y_pred) / y_test.mean() * 100  # Mean Absolute Percentage Error\n",
    "\n",
    "evaluation_metrics = {\n",
    "    'R2': r2,\n",
    "    'RMSE': rmse,\n",
    "    'MAE': mae,\n",
    "    'MAPE': mape\n",
    "}\n",
    "\n",
    "print(evaluation_metrics)"
   ]
  },
  {
   "cell_type": "code",
   "execution_count": 78,
   "id": "c1ac8d80",
   "metadata": {},
   "outputs": [
    {
     "data": {
      "image/png": "[encoded data removed]",
      "text/plain": [
       "<Figure size 1000x500 with 1 Axes>"
      ]
     },
     "metadata": {},
     "output_type": "display_data"
    }
   ],
   "source": [
    "# Plot training & validation loss values\n",
    "plt.figure(figsize=(10, 5))\n",
    "plt.plot(model_NN.history['loss'], label='Train Loss')\n",
    "plt.plot(model_NN.history['val_loss'], label='Validation Loss')\n",
    "plt.title('Model loss per iteration')\n",
    "plt.ylabel('Loss')\n",
    "plt.xlabel('Epoch')\n",
    "plt.legend()\n",
    "plt.show()\n"
   ]
  },
  {
   "cell_type": "markdown",
   "id": "57195d87",
   "metadata": {},
   "source": [
    "- Both training and validation losses decrease rapidly in the first few epochs, showing that the model is learning quickly from the data.\n",
    "\n",
    "- After the initial decrease, the loss continues to trend downwards more gradually.\n",
    "\n",
    "- The training and validation loss lines are relatively close together, which is a good sign. It suggests that the model is not overfitting to the training data, as overfitting would be indicated by a large gap between the training and validation loss."
   ]
  },
  {
   "cell_type": "markdown",
   "id": "0d3c7f4b",
   "metadata": {},
   "source": [
    "Things to do:\n",
    "\n",
    "- coeff and predict what it means\n",
    "- conclusion, intro, table of contents\n",
    "- how i dealt with overfitting "
   ]
  },
  {
   "cell_type": "code",
   "execution_count": null,
   "id": "acf5bd0c",
   "metadata": {},
   "outputs": [],
   "source": []
  }
 ],
 "metadata": {
  "kernelspec": {
   "display_name": "Python 3 (ipykernel)",
   "language": "python",
   "name": "python3"
  },
  "language_info": {
   "codemirror_mode": {
    "name": "ipython",
    "version": 3
   },
   "file_extension": ".py",
   "mimetype": "text/x-python",
   "name": "python",
   "nbconvert_exporter": "python",
   "pygments_lexer": "ipython3",
   "version": "3.10.6"
  }
 },
 "nbformat": 4,
 "nbformat_minor": 5
}
